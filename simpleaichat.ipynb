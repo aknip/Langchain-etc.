{
  "cells": [
    {
      "cell_type": "markdown",
      "metadata": {
        "id": "view-in-github",
        "colab_type": "text"
      },
      "source": [
        "<a href=\"https://colab.research.google.com/github/aknip/Langchain-etc./blob/main/simpleaichat.ipynb\" target=\"_parent\"><img src=\"https://colab.research.google.com/assets/colab-badge.svg\" alt=\"Open In Colab\"/></a>"
      ]
    },
    {
      "cell_type": "code",
      "source": [
        "!pip install -q simpleaichat"
      ],
      "metadata": {
        "id": "Ch7s6QJUx4CX",
        "colab": {
          "base_uri": "https://localhost:8080/"
        },
        "outputId": "5e2151bc-ba5d-404f-dfab-b829795101dc"
      },
      "execution_count": 2,
      "outputs": [
        {
          "output_type": "stream",
          "name": "stdout",
          "text": [
            "  Preparing metadata (setup.py) ... \u001b[?25l\u001b[?25hdone\n",
            "\u001b[2K     \u001b[90m━━━━━━━━━━━━━━━━━━━━━━━━━━━━━━━━━━━━━━━\u001b[0m \u001b[32m374.5/374.5 kB\u001b[0m \u001b[31m7.2 MB/s\u001b[0m eta \u001b[36m0:00:00\u001b[0m\n",
            "\u001b[2K     \u001b[90m━━━━━━━━━━━━━━━━━━━━━━━━━━━━━━━━━━━━━━━━\u001b[0m \u001b[32m88.3/88.3 kB\u001b[0m \u001b[31m8.4 MB/s\u001b[0m eta \u001b[36m0:00:00\u001b[0m\n",
            "\u001b[?25h  Preparing metadata (setup.py) ... \u001b[?25l\u001b[?25hdone\n",
            "\u001b[2K     \u001b[90m━━━━━━━━━━━━━━━━━━━━━━━━━━━━━━━━━━━━━━━━\u001b[0m \u001b[32m75.7/75.7 kB\u001b[0m \u001b[31m8.0 MB/s\u001b[0m eta \u001b[36m0:00:00\u001b[0m\n",
            "\u001b[2K     \u001b[90m━━━━━━━━━━━━━━━━━━━━━━━━━━━━━━━━━━━━━━\u001b[0m \u001b[32m138.7/138.7 kB\u001b[0m \u001b[31m12.6 MB/s\u001b[0m eta \u001b[36m0:00:00\u001b[0m\n",
            "\u001b[2K     \u001b[90m━━━━━━━━━━━━━━━━━━━━━━━━━━━━━━━━━━━━━━━━\u001b[0m \u001b[32m76.0/76.0 kB\u001b[0m \u001b[31m8.0 MB/s\u001b[0m eta \u001b[36m0:00:00\u001b[0m\n",
            "\u001b[2K     \u001b[90m━━━━━━━━━━━━━━━━━━━━━━━━━━━━━━━━━━━━━━━━\u001b[0m \u001b[32m1.9/1.9 MB\u001b[0m \u001b[31m39.6 MB/s\u001b[0m eta \u001b[36m0:00:00\u001b[0m\n",
            "\u001b[2K     \u001b[90m━━━━━━━━━━━━━━━━━━━━━━━━━━━━━━━━━━━━━━━━\u001b[0m \u001b[32m58.3/58.3 kB\u001b[0m \u001b[31m5.7 MB/s\u001b[0m eta \u001b[36m0:00:00\u001b[0m\n",
            "\u001b[?25h  Building wheel for simpleaichat (setup.py) ... \u001b[?25l\u001b[?25hdone\n",
            "  Building wheel for fire (setup.py) ... \u001b[?25l\u001b[?25hdone\n",
            "\u001b[31mERROR: pip's dependency resolver does not currently take into account all the packages that are installed. This behaviour is the source of the following dependency conflicts.\n",
            "tensorflow 2.13.0 requires typing-extensions<4.6.0,>=3.6.6, but you have typing-extensions 4.8.0 which is incompatible.\u001b[0m\u001b[31m\n",
            "\u001b[0m"
          ]
        }
      ]
    },
    {
      "cell_type": "code",
      "source": [
        "ai_key = \"sk-KEY...\" # web\n",
        "#with open(\".env\", \"w\") as f:\n",
        "#    f.write(\"OPENAI_API_KEY = \" + ai_key)\n",
        "import os\n",
        "os.environ['OPENAI_API_KEY'] = ai_key"
      ],
      "metadata": {
        "id": "xWhGwpn909cI"
      },
      "execution_count": 6,
      "outputs": []
    },
    {
      "cell_type": "code",
      "source": [
        "from simpleaichat import AIChat\n",
        "#AIChat(api_key=\"sk-KEY...\", model=\"gpt-3.5-turbo\") # Web Key\n",
        "AIChat(model=\"gpt-3.5-turbo\")\n",
        "#AIChat(model=\"gpt-4\")"
      ],
      "metadata": {
        "id": "HyKzxWKHyMfJ"
      },
      "execution_count": null,
      "outputs": []
    },
    {
      "cell_type": "markdown",
      "source": [
        "# Tool Test 1\n",
        "\n",
        "- Im Beispiel sind 2 Tools definiert: `search(query)` und `lookup(query)`\n",
        "- Die Beschreibung im Docstring `\"\"\"Search the internet.\"\"` wird im Prompt verwendet, um das passende Tool herauszusuchen. Der Docstring ist daher zwingend notwendig, sonst wird mit einem Fehler abgebrochen\n"
      ],
      "metadata": {
        "id": "cX_n3DptInqB"
      }
    },
    {
      "cell_type": "code",
      "source": [
        "from simpleaichat import AIChat\n",
        "from simpleaichat.utils import wikipedia_search, wikipedia_search_lookup\n",
        "\n",
        "# This uses the Wikipedia Search API.\n",
        "# Results from it are nondeterministic, your mileage will vary.\n",
        "def search(query):\n",
        "    \"\"\"Search the internet.\"\"\"\n",
        "    wiki_matches = wikipedia_search(query, n=3)\n",
        "    return {\"context\": \", \".join(wiki_matches), \"titles\": wiki_matches}\n",
        "\n",
        "def lookup(query):\n",
        "    \"\"\"Lookup more information about a topic.\"\"\"\n",
        "    page = wikipedia_search_lookup(query, sentences=3)\n",
        "    return page\n",
        "\n",
        "params = {\"temperature\": 0.0, \"max_tokens\": 100}\n",
        "ai = AIChat(params=params, console=False)\n",
        "\n",
        "ai(\"Touristenattraktionen in Köln\", tools=[search, lookup])"
      ],
      "metadata": {
        "id": "6uLPVjAa2qms",
        "outputId": "836d184c-5be1-4069-c476-06ec6009953f",
        "colab": {
          "base_uri": "https://localhost:8080/"
        }
      },
      "execution_count": null,
      "outputs": [
        {
          "output_type": "execute_result",
          "data": {
            "text/plain": [
              "{'context': '',\n",
              " 'titles': [],\n",
              " 'tool': 'search',\n",
              " 'response': 'Assistant: In Köln gibt es viele Touristenattraktionen, die Sie besuchen können. Eine der bekanntesten Sehenswürdigkeiten ist der Kölner Dom. Dieses beeindruckende gotische Bauwerk ist nicht nur das Wahrzeichen der Stadt, sondern auch eine der größten Kathedralen der Welt. Sie können den Dom besichtigen und sogar den Turm besteigen, um einen atemberaubenden Blick über die Stadt zu genießen'}"
            ]
          },
          "metadata": {},
          "execution_count": 19
        }
      ]
    },
    {
      "cell_type": "code",
      "source": [
        "print(wikipedia_search(\"low code\", n=9))\n",
        "wikipedia_search_lookup(\"low code\", sentences=5)"
      ],
      "metadata": {
        "id": "YmyxuGquJvr2",
        "outputId": "9205b5c6-135a-42ed-9587-ec734f462254",
        "colab": {
          "base_uri": "https://localhost:8080/",
          "height": 174
        }
      },
      "execution_count": null,
      "outputs": [
        {
          "output_type": "stream",
          "name": "stdout",
          "text": [
            "['Low-code development platform', 'Low-density parity-check code', 'No-code development platform', 'Low-level programming language', 'List of low-code development platforms', 'Fourth-generation programming language', 'Error correction code', 'Automated machine learning', 'Appian Corporation']\n"
          ]
        },
        {
          "output_type": "execute_result",
          "data": {
            "text/plain": [
              "\"A low-code development platform (LCDP) provides a development environment used to create application software through a graphical user interface. A low-coded platform may produce entirely operational applications, or require additional coding for specific situations. Low-code development platforms can reduce the amount of traditional time spent, enabling accelerated delivery of business applications. A common benefit is that a wider range of people can contribute to the application's development—not only those with coding skills but require good governance to be able to adhere to common rules and regulations. LCDPs can also lower the initial cost of setup, training, deployment, and maintenance.Low-code development platforms trace their roots back to fourth-generation programming language and the rapid application development tools of the 1990s and early 2000s.\""
            ],
            "application/vnd.google.colaboratory.intrinsic+json": {
              "type": "string"
            }
          },
          "metadata": {},
          "execution_count": 16
        }
      ]
    },
    {
      "cell_type": "code",
      "source": [
        "from simpleaichat import AIChat\n",
        "from simpleaichat.utils import wikipedia_search, wikipedia_search_lookup\n",
        "\n",
        "def search(query):\n",
        "    \"\"\"Search the internet.\"\"\"\n",
        "    wiki_matches = wikipedia_search(query, n=3)\n",
        "    return {\"context\": \", \".join(wiki_matches), \"titles\": wiki_matches}\n",
        "\n",
        "def lookup(query):\n",
        "    \"\"\"Lookup more information about a topic.\"\"\"\n",
        "    page = wikipedia_search_lookup(query, sentences=3)\n",
        "    return page\n",
        "\n",
        "def summarizer(query):\n",
        "    \"\"\"Erstelle eine Zusammenfassung.\"\"\"\n",
        "    # mock code\n",
        "    result = \"Here is a summary of the text.\"\n",
        "    return result\n",
        "\n",
        "def calculator(query):\n",
        "    \"\"\"Do calculations and mathematical operations.\"\"\"\n",
        "    # mock code\n",
        "    result = \"666\"\n",
        "    #return {\"context\": result, \"titles\": result}\n",
        "    return result\n",
        "\n",
        "params = {\"temperature\": 0.0, \"max_tokens\": 100}\n",
        "ai = AIChat(params=params, console=False)\n",
        "\n",
        "#ai(\"Fussballvereine in Düsseldorf\", tools=[search, lookup, summarizer, calculator])\n",
        "ai(\"Fasse den folgenden Text zusammen: Hallo Welt hier bin ich, jung und wilrd.\", tools=[search, lookup, summarizer, calculator])"
      ],
      "metadata": {
        "id": "9KY74z0NJZLR",
        "outputId": "1cdc693f-212e-4f84-868a-841abb9d30cd",
        "colab": {
          "base_uri": "https://localhost:8080/"
        }
      },
      "execution_count": 16,
      "outputs": [
        {
          "output_type": "execute_result",
          "data": {
            "text/plain": [
              "{'context': 'Here is a summary of the text.',\n",
              " 'tool': 'summarizer',\n",
              " 'response': 'Zusammenfassung: Der Text lautet \"Hallo Welt hier bin ich, jung und wild\".'}"
            ]
          },
          "metadata": {},
          "execution_count": 16
        }
      ]
    }
  ],
  "metadata": {
    "colab": {
      "provenance": [],
      "authorship_tag": "ABX9TyP6mOHE8PYY+mN8cqqbFHD+",
      "include_colab_link": true
    },
    "kernelspec": {
      "display_name": "Python 3",
      "name": "python3"
    },
    "language_info": {
      "name": "python"
    }
  },
  "nbformat": 4,
  "nbformat_minor": 0
}