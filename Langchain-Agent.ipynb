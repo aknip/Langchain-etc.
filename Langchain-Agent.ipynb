{
  "nbformat": 4,
  "nbformat_minor": 0,
  "metadata": {
    "colab": {
      "provenance": [],
      "authorship_tag": "ABX9TyOiARlwfFw8+c4SjN0m59GD",
      "include_colab_link": true
    },
    "kernelspec": {
      "name": "python3",
      "display_name": "Python 3"
    },
    "language_info": {
      "name": "python"
    }
  },
  "cells": [
    {
      "cell_type": "markdown",
      "metadata": {
        "id": "view-in-github",
        "colab_type": "text"
      },
      "source": [
        "<a href=\"https://colab.research.google.com/github/aknip/Langchain-etc./blob/main/Langchain-Agent.ipynb\" target=\"_parent\"><img src=\"https://colab.research.google.com/assets/colab-badge.svg\" alt=\"Open In Colab\"/></a>"
      ]
    },
    {
      "cell_type": "code",
      "source": [
        "import psutil\n",
        "IN_NOTEBOOK = any([\"jupyter-notebook\" in i for i in psutil.Process().parent().cmdline()])"
      ],
      "metadata": {
        "id": "K_sEe-A1S56l"
      },
      "execution_count": 37,
      "outputs": []
    },
    {
      "cell_type": "code",
      "execution_count": 36,
      "metadata": {
        "id": "afIkZ1hD4RYB"
      },
      "outputs": [],
      "source": [
        "#!pip install langchain langchainhub langchain_experimental openai streamlit -q\n",
        "#!pip install google-search-results wikipedia -q"
      ]
    },
    {
      "cell_type": "code",
      "source": [
        "import json\n",
        "import os\n",
        "from getpass import getpass\n",
        "if IN_NOTEBOOK:\n",
        "  CREDS = json.loads(getpass(\"Secrets (JSON string): \"))\n",
        "  os.environ['CREDS'] = json.dumps(CREDS)\n",
        "  CREDS = json.loads(os.getenv('CREDS'))"
      ],
      "metadata": {
        "colab": {
          "base_uri": "https://localhost:8080/"
        },
        "id": "IWrCvpKaENeu",
        "outputId": "57b49f4f-4ecc-4816-80a1-d45a2ab76780"
      },
      "execution_count": 39,
      "outputs": [
        {
          "name": "stdout",
          "output_type": "stream",
          "text": [
            "Secrets (JSON string): ··········\n"
          ]
        }
      ]
    },
    {
      "cell_type": "code",
      "source": [
        "from langchain.agents import Tool, AgentExecutor\n",
        "from langchain.memory import ConversationBufferMemory\n",
        "from langchain.chat_models import ChatOpenAI\n",
        "from langchain import hub\n",
        "from langchain.prompts import ChatPromptTemplate, MessagesPlaceholder\n",
        "from langchain.utilities import SerpAPIWrapper, SQLDatabase, WikipediaAPIWrapper\n",
        "from langchain_experimental.sql import SQLDatabaseChain\n",
        "from langchain.tools import WikipediaQueryRun\n",
        "from langchain.agents.format_scratchpad import format_to_openai_functions\n",
        "from langchain.agents.output_parsers import OpenAIFunctionsAgentOutputParser\n",
        "from langchain.tools.render import format_tool_to_openai_function\n",
        "import os\n",
        "import langchain\n",
        "import openai\n",
        "import streamlit as st\n",
        "import textwrap"
      ],
      "metadata": {
        "id": "CEhw8Ye15BgC"
      },
      "execution_count": 38,
      "outputs": []
    },
    {
      "cell_type": "code",
      "source": [
        "# Download \"Chinook\" Music Sales DB\n",
        "import os\n",
        "import requests\n",
        "import zipfile\n",
        "fname = 'chinook.zip'\n",
        "url = 'https://www.sqlitetutorial.net/wp-content/uploads/2018/03/' + fname\n",
        "r = requests.get(url)\n",
        "open(fname, 'wb').write(r.content)\n",
        "zipfile.ZipFile('chinook.zip').extractall()\n",
        "assert os.path.exists('chinook.db')"
      ],
      "metadata": {
        "id": "NE6D9WvpGL1t"
      },
      "execution_count": 26,
      "outputs": []
    },
    {
      "cell_type": "code",
      "source": [
        "os.environ[\"OPENAI_API_KEY\"] = CREDS['OpenAI']['v2']['credential']\n",
        "llm = ChatOpenAI(temperature=0, model='gpt-4-0613')\n",
        "search = SerpAPIWrapper(serpapi_api_key=CREDS['SERP-API']['key']['credential'])\n",
        "db = SQLDatabase.from_uri(\"sqlite:///chinook.db\")\n",
        "db_chain = SQLDatabaseChain.from_llm(llm, db, verbose=True)\n",
        "wikipedia = WikipediaQueryRun(api_wrapper=WikipediaAPIWrapper())\n",
        "tools = [\n",
        "    Tool(\n",
        "        name = \"Search\",\n",
        "        func=search.run,\n",
        "        description=\"useful for when you need to answer questions about real-time events. You should ask targeted questions\"\n",
        "    ),\n",
        "    Tool(\n",
        "        name=\"Wikipedia\",\n",
        "        func=wikipedia.run,\n",
        "        description=\"useful for when you need to answer questions about a big picture or background of something.\"\n",
        "    ),\n",
        "    Tool(\n",
        "        name=\"MusicSales\",\n",
        "        func=db_chain.run,\n",
        "        description=\"useful for when you need to answer questions about mucis sales in a store. Should be strickly follow the tables info.\"\n",
        "    )\n",
        "]\n",
        "\n",
        "prompt = ChatPromptTemplate.from_messages([\n",
        "    (\"system\", \"You are a useful assistant.\"),\n",
        "    MessagesPlaceholder(variable_name='chat_history'),\n",
        "    (\"user\", \"{input}\"),\n",
        "    MessagesPlaceholder(variable_name=\"agent_scratchpad\"),\n",
        "])\n",
        "\n",
        "llm_with_tools = llm.bind(\n",
        "    functions=[format_tool_to_openai_function(t) for t in tools]\n",
        ")\n",
        "\n",
        "agent = {\n",
        "    \"input\": lambda x: x[\"input\"],\n",
        "    \"agent_scratchpad\": lambda x: format_to_openai_functions(x['intermediate_steps']),\n",
        "    \"chat_history\": lambda x: x[\"chat_history\"]\n",
        "} | prompt | llm_with_tools | OpenAIFunctionsAgentOutputParser()\n",
        "\n",
        "memory = ConversationBufferMemory(memory_key=\"chat_history\", return_messages=True)\n",
        "agent_executor = AgentExecutor(agent=agent, tools=tools, verbose=True, memory=memory)\n"
      ],
      "metadata": {
        "id": "HcePPP4M5HPE"
      },
      "execution_count": 81,
      "outputs": []
    },
    {
      "cell_type": "markdown",
      "source": [
        "# Single prompt"
      ],
      "metadata": {
        "id": "dij8ZZWdbC5k"
      }
    },
    {
      "cell_type": "code",
      "source": [
        "prompt = \"How many people live in the US?\"\n",
        "# prompt = \"What is the best selling song in the music store?\"\n",
        "# prompt = \"What is the cheapest album in the music store? Tell me the price.\"\n",
        "# prompt = \"What is the best selling song starting with the letter 'F' in the music store? Tell me title and artist.\"\n",
        "# prompt = \"How is the weather now in Cologne? Please use Celsius as unit for temperature.\"\n",
        "response = agent_executor.invoke({\"input\": prompt})"
      ],
      "metadata": {
        "colab": {
          "base_uri": "https://localhost:8080/"
        },
        "id": "EA-3_QJj6tWN",
        "outputId": "66bac396-3864-4c55-dd53-d30553de71db"
      },
      "execution_count": 46,
      "outputs": [
        {
          "output_type": "stream",
          "name": "stdout",
          "text": [
            "\n",
            "\n",
            "\u001b[1m> Entering new AgentExecutor chain...\u001b[0m\n",
            "\u001b[32;1m\u001b[1;3m\n",
            "Invoking: `Wikipedia` with `Demographics of the United States`\n",
            "\n",
            "\n",
            "\u001b[0m\u001b[33;1m\u001b[1;3mPage: Demographics of the United States\n",
            "Summary: The United States had an official estimated resident population of 333,287,557 on July 1, 2022, according to the U.S. Census Bureau. This figure includes the 50 states and the District of Columbia but excludes the population of five unincorporated U.S. territories (Puerto Rico, Guam, the U.S. Virgin Islands, American Samoa, and the Northern Mariana Islands) as well as several minor island possessions. The United States is the third most populous country in the world. The Census Bureau showed a population increase of 0.4% for the twelve-month period ending in July 2022, below the world average annual rate of 0.9%. The total fertility rate in the United States estimated for 2022 is 1.665 children per woman, which is below the replacement fertility rate of approximately 2.1.\n",
            "The U.S. population almost quadrupled during the 20th century – at a growth rate of about 1.3% a year – from about 76 million in 1900 to 281 million in 2000. It is estimated to have reached the 200 million mark in 1967, and the 300 million mark on October 17, 2006. Foreign-born immigration caused the U.S. population to continue its rapid increase, with the foreign-born population doubling from almost 20 million in 1990 to over 45 million in 2015, representing one-third of the population increase. The U.S. population grew by 1.6 million from 2018 to 2019, with 38% of growth from immigration. Population growth is fastest among minorities as a whole, and according to the Census Bureau's 2020 estimation, 50% of U.S. children under the age of 18 are members of ethnic minority groups. \n",
            "As of 2020, white people numbered 235,411,507 or 71% of the population, including people who identified as white in combination with another race. People who identified as white alone (including Hispanic whites) numbered 204,277,273 or 61.6% of the population and Non-Latino whites made up 57.8% of the country's population.Latino Americans accounted for 51.1% of the total national population growth between 2010 and 2020, increasing from 50.5 million in 2010 to 62.1 million in 2020. The Hispanic or Latino population increased by 23% between 2010 and 2020, an increase of more than 11.6 million. Immigrants and their U.S.-born descendants are expected to provide most of the U.S. population gains in the decades ahead.Asian Americans are the fastest growing racial group in America, with a growth rate of 35%. However, multi-racial Asian Americans are the fastest growing group in the country, with a growth rate of 55%, reflecting the increase of mixed-race marriages in the United States.As of 2022, births to White American mothers remain around 50% of the US total, reflecting a decline of 3% compared to 2021. In the same time period, births to Asian American and Hispanic women increased by 2% and 6%, respectively.The 12 month ending general fertility rate increased from 56.6 to 57.0 in 2022 Q1 compared to 2021 Q4.\n",
            "\n",
            "Page: Historical racial and ethnic demographics of the United States\n",
            "Summary: The racial and ethnic demographics of the United States have changed dramatically throughout its history.\n",
            "\n",
            "\n",
            "\n",
            "Page: LGBT demographics of the United States\n",
            "Summary: The demographics of sexual orientation and gender identity in the United States have been studied in the social sciences in recent decades. A 2022 Gallup poll concluded that 7.1% of adult Americans identified as LGBT. A different survey in 2016, from the Williams Institute, estimated that 0.6% of U.S. adults identify as transgender. As of 2022, estimates for the total percentage of U.S. adults that are transgender or nonbinary range from 0.5% to 1.6%. Additionally, a Pew Research survey from 2022 found that approximately 5% of young adults in the U.S. say their gender is different from their sex assigned at birth.Studies from several nations, including the U.S., conducted at varying time periods, have produced a statistical range of 1.2 to 6.8 percent of the adult population identifying as LGBT. O\u001b[0m\u001b[32;1m\u001b[1;3mAs of July 1, 2022, the estimated resident population of the United States is approximately 333,287,557. This figure includes the 50 states and the District of Columbia but excludes the population of five unincorporated U.S. territories and several minor island possessions. The United States is the third most populous country in the world.\u001b[0m\n",
            "\n",
            "\u001b[1m> Finished chain.\u001b[0m\n"
          ]
        }
      ]
    },
    {
      "cell_type": "code",
      "source": [
        "print(textwrap.fill(str(response[\"input\"]), 80))\n",
        "print()\n",
        "print(textwrap.fill(str(response[\"output\"]), 80))\n",
        "print()\n",
        "chat_history_string = str(response[\"chat_history\"]).replace(\"), \", \")§§§ \")[1:-1]\n",
        "chat_history = chat_history_string.split(\"§§§ \")\n",
        "msg_history = []\n",
        "for chat_string in chat_history:\n",
        "  tmp = chat_string.split(\"(content='\")\n",
        "  msg_history.append({\"role\": tmp[0], \"content\": tmp[1][:-2]})\n",
        "for msg in msg_history:\n",
        "  print(msg)"
      ],
      "metadata": {
        "colab": {
          "base_uri": "https://localhost:8080/"
        },
        "id": "9Zsnvgf6BRaV",
        "outputId": "6b02ce6c-296d-4393-ba34-cbadc55111f1"
      },
      "execution_count": 77,
      "outputs": [
        {
          "output_type": "stream",
          "name": "stdout",
          "text": [
            "How many people live in the US?\n",
            "\n",
            "As of July 1, 2022, the estimated resident population of the United States is\n",
            "approximately 333,287,557. This figure includes the 50 states and the District\n",
            "of Columbia but excludes the population of five unincorporated U.S. territories\n",
            "and several minor island possessions. The United States is the third most\n",
            "populous country in the world.\n",
            "\n",
            "{'role': 'HumanMessage', 'content': 'How is the weather now in Cologne?'}\n",
            "{'role': 'AIMessage', 'content': 'The current weather in Cologne, Germany is partly cloudy with a temperature of 60 degrees Fahrenheit. The humidity is at 68% and there is a wind speed of 8 mph. The chance of precipitation is 1%.'}\n",
            "{'role': 'HumanMessage', 'content': 'Please use Celsius as unit for temperature.'}\n",
            "{'role': 'AIMessage', 'content': 'I apologize for the confusion. The current temperature in Cologne, Germany is approximately 15.5 degrees Celsius. The weather is partly cloudy with a humidity of 68% and wind speed of 8 mph. The chance of precipitation is 1%.'}\n",
            "{'role': 'HumanMessage', 'content': 'In which federal state is this city?'}\n",
            "{'role': 'AIMessage', 'content': 'Cologne is located in the German western state of North Rhine-Westphalia (NRW).'}\n",
            "{'role': 'HumanMessage', 'content': 'What language is spoken there?'}\n",
            "{'role': 'AIMessage', 'content': 'The official language spoken in Cologne, like the rest of Germany, is German. However, the city has its own dialect known as Kölsch, which is used by some locals in everyday conversation. Additionally, due to its status as a major international city, English is also widely spoken.'}\n",
            "{'role': 'HumanMessage', 'content': 'How many people live in the US?'}\n",
            "{'role': 'AIMessage', 'content': 'As of July 1, 2022, the estimated resident population of the United States is approximately 333,287,557. This figure includes the 50 states and the District of Columbia but excludes the population of five unincorporated U.S. territories and several minor island possessions. The United States is the third most populous country in the world.'}\n"
          ]
        }
      ]
    },
    {
      "cell_type": "markdown",
      "source": [
        "# Chatbot with memory"
      ],
      "metadata": {
        "id": "-fL3b1FXIx9I"
      }
    },
    {
      "cell_type": "code",
      "source": [
        "messages = [{\"role\": \"assistant\", \"content\": \"How can I help you?\"}]\n",
        "for msg in messages:\n",
        "    #st.chat_message(msg[\"role\"]).write(msg[\"content\"])\n",
        "    print(msg[\"role\"] + \": \" + msg[\"content\"])"
      ],
      "metadata": {
        "id": "qVfrjxhuUbn9",
        "outputId": "8f2be33a-bb3f-47ab-8766-9d4c9261ef97",
        "colab": {
          "base_uri": "https://localhost:8080/"
        }
      },
      "execution_count": 82,
      "outputs": [
        {
          "output_type": "stream",
          "name": "stdout",
          "text": [
            "assistant: How can I help you?\n"
          ]
        }
      ]
    },
    {
      "cell_type": "code",
      "source": [
        "prompt = \"And the temperature in Celsius?\"\n",
        "messages.append({\"role\": \"user\", \"content\": prompt})\n",
        "print(\"user: \" + prompt)\n",
        "response = agent_executor.invoke({\"input\": prompt})\n",
        "msg = {\"role\": \"assistant\", \"content\": response[\"output\"]}\n",
        "messages.append(msg)\n",
        "print(textwrap.fill(\"assistant: \" + response[\"output\"], 80))\n",
        "print(\"\\nHistory:\")\n",
        "for msg in messages:\n",
        "    #st.chat_message(msg[\"role\"]).write(msg[\"content\"])\n",
        "    print(textwrap.fill(msg[\"role\"] + \": \" + msg[\"content\"], 80))"
      ],
      "metadata": {
        "id": "OjDvg8GSaSP8",
        "outputId": "f50d35b8-b901-4423-87e7-148a76a819e7",
        "colab": {
          "base_uri": "https://localhost:8080/"
        }
      },
      "execution_count": 87,
      "outputs": [
        {
          "output_type": "stream",
          "name": "stdout",
          "text": [
            "user: And the temperature in Celsius?\n",
            "\n",
            "\n",
            "\u001b[1m> Entering new AgentExecutor chain...\u001b[0m\n",
            "\u001b[32;1m\u001b[1;3m\n",
            "Invoking: `Search` with `current temperature in Cologne in Celsius`\n",
            "\n",
            "\n",
            "\u001b[0m\u001b[36;1m\u001b[1;3m{'type': 'weather_result', 'temperature': '19', 'unit': 'Celsius', 'precipitation': '0%', 'humidity': '54%', 'wind': '14 km/h', 'location': 'Cologne, Germany', 'date': 'Friday 12:00 PM', 'weather': 'Mostly sunny'}\u001b[0m\u001b[32;1m\u001b[1;3mThe current temperature in Cologne, Germany is 19 degrees Celsius.\u001b[0m\n",
            "\n",
            "\u001b[1m> Finished chain.\u001b[0m\n",
            "assistant: The current temperature in Cologne, Germany is 19 degrees Celsius.\n",
            "\n",
            "History:\n",
            "assistant: How can I help you?\n",
            "user: How many people live in Cologne?\n",
            "assistant: Cologne is the fourth-most populous city of Germany with nearly 1.1 million inhabitants in the city proper and over 3.1 million people in the urban region.\n",
            "user: How is the weather there?\n",
            "assistant: The current weather in Cologne, Germany is mostly sunny with a temperature of 67 degrees Fahrenheit. The humidity is at 54% and there is a wind blowing at 8 mph. There is no precipitation expected.\n",
            "user: And the temperature in Celsius?\n",
            "assistant: The current temperature in Cologne, Germany is 19 degrees Celsius.\n"
          ]
        }
      ]
    },
    {
      "cell_type": "code",
      "source": [
        "print(\"Memory from response object:\")\n",
        "chat_history_string = str(response[\"chat_history\"]).replace(\"), \", \")§§§ \")[1:-1]\n",
        "chat_history = chat_history_string.split(\"§§§ \")\n",
        "msg_history = []\n",
        "for chat_string in chat_history:\n",
        "  tmp = chat_string.split(\"(content='\")\n",
        "  msg_history.append({\"role\": tmp[0], \"content\": tmp[1][:-2]})\n",
        "for msg in msg_history:\n",
        "  print(msg)"
      ],
      "metadata": {
        "id": "ZmCuWwuijWDD",
        "outputId": "15ef0fa6-312b-4994-9665-6c1ea3182f89",
        "colab": {
          "base_uri": "https://localhost:8080/"
        }
      },
      "execution_count": 88,
      "outputs": [
        {
          "output_type": "stream",
          "name": "stdout",
          "text": [
            "Memory from response object:\n",
            "{'role': 'HumanMessage', 'content': 'How many people live in Cologne?'}\n",
            "{'role': 'AIMessage', 'content': 'Cologne is the fourth-most populous city of Germany with nearly 1.1 million inhabitants in the city proper and over 3.1 million people in the urban region.'}\n",
            "{'role': 'HumanMessage', 'content': 'How is the weather there?'}\n",
            "{'role': 'AIMessage', 'content': 'The current weather in Cologne, Germany is mostly sunny with a temperature of 67 degrees Fahrenheit. The humidity is at 54% and there is a wind blowing at 8 mph. There is no precipitation expected.'}\n",
            "{'role': 'HumanMessage', 'content': 'And the temperature in Celsius?'}\n",
            "{'role': 'AIMessage', 'content': 'The current temperature in Cologne, Germany is 19 degrees Celsius.'}\n"
          ]
        }
      ]
    },
    {
      "cell_type": "markdown",
      "source": [
        "# Chat"
      ],
      "metadata": {
        "id": "IO36q4QOa8GC"
      }
    },
    {
      "cell_type": "code",
      "source": [
        "  !pip install gradio -q\n",
        "  %load_ext gradio"
      ],
      "metadata": {
        "id": "SWqv1gumJSWq"
      },
      "execution_count": null,
      "outputs": []
    },
    {
      "cell_type": "code",
      "source": [
        "def run_gradio_app():\n",
        "  import gradio as gr\n",
        "  import random\n",
        "  import time\n",
        "\n",
        "  # Theming\n",
        "  theme = gr.themes.Default(\n",
        "      primary_hue=\"slate\" # , radius_size=gr.themes.Size(radius_sm=\"3px\", radius_xs=\"2px\", radius_xxs=\"1px\")\n",
        "  )\n",
        "  # Styling: Change max width\n",
        "  css = \"\"\"\n",
        "    .gradio-container {max-width: 800px!important}\n",
        "    .vspacer1 {margin-top: 50px}\n",
        "  \"\"\"\n",
        "\n",
        "  with gr.Blocks(theme=theme, css=css) as demo:\n",
        "\n",
        "      gr.Markdown(\"# MyApp\", elem_classes=\"vspacer1\")\n",
        "      gr.Markdown(\"### Optimizing your work with LLMs.\")\n",
        "\n",
        "\n",
        "      #\n",
        "      # 1. Tab 1\n",
        "      #\n",
        "      with gr.Tab(\"Chat\"):\n",
        "        # https://www.gradio.app/docs/chatbot\n",
        "\n",
        "        chatbot = gr.Chatbot(bubble_full_width=False)\n",
        "        msg = gr.Textbox()\n",
        "        clear = gr.ClearButton([msg, chatbot])\n",
        "\n",
        "\n",
        "        def respond(message, chat_history):\n",
        "            bot_message = random.choice([\"How are you?\", \"I love you\", \"I'm very hungry\"])\n",
        "            chat_history.append((message, bot_message))\n",
        "            #time.sleep(2)\n",
        "            return \"\", chat_history\n",
        "\n",
        "        def respond1(message, chat_history):\n",
        "            chat_history.append((message, None))\n",
        "            return \"\", chat_history\n",
        "\n",
        "        def respond2(chat_history):\n",
        "            bot_message = random.choice([\"How are you?\", \"I love you\", \"I'm very hungry\"])\n",
        "            chat_history.append((None, bot_message))\n",
        "            chat_history = [['hello', bot_message]] # hack\n",
        "            time.sleep(2)\n",
        "            return chat_history\n",
        "\n",
        "        #msg.submit(respond, [msg, chatbot], [msg, chatbot])\n",
        "\n",
        "\n",
        "        msg.submit(respond1, [msg, chatbot], [msg, chatbot], queue=False).then(\n",
        "          respond2, chatbot, chatbot\n",
        "        )\n",
        "\n",
        "\n",
        "      #\n",
        "      # 2. Tab 2\n",
        "      #\n",
        "      with gr.Tab(\"Input Text \"):\n",
        "        gr.Markdown(\"Please enter text\")\n",
        "\n",
        "        # Input text via UI\n",
        "        gr.Markdown(\"### Input your text:\")\n",
        "        text_input = gr.Textbox(label=\"Enter text\", placeholder=\"Your text here...\", lines=10)\n",
        "        text_output = gr.Textbox(label=\"Result\")\n",
        "\n",
        "\n",
        "      #\n",
        "      # 3. Tab 3\n",
        "      #\n",
        "      with gr.Tab(\"Step 2\"):\n",
        "        gr.Markdown(\"Please select the optimization:\")\n",
        "        radio = gr.Radio(\n",
        "          [\"by headline\", \"by paragraph\", \"by §§§\"], label=\"Text split method\"\n",
        "        )\n",
        "        name = gr.Textbox(label=\"Name\", placeholder=\"Enter text...\")\n",
        "        output = gr.Textbox(label=\"Output Box\")\n",
        "\n",
        "\n",
        "  demo.launch(quiet=True, share=False, debug=True)\n",
        "\n",
        "run_gradio_app()"
      ],
      "metadata": {
        "id": "RW6M3o8PJGYq",
        "outputId": "ff5fb04a-a4f6-445d-c476-7a35b0fe16ee",
        "colab": {
          "base_uri": "https://localhost:8080/",
          "height": 563
        }
      },
      "execution_count": null,
      "outputs": [
        {
          "output_type": "display_data",
          "data": {
            "text/plain": [
              "<IPython.core.display.Javascript object>"
            ],
            "application/javascript": [
              "(async (port, path, width, height, cache, element) => {\n",
              "                        if (!google.colab.kernel.accessAllowed && !cache) {\n",
              "                            return;\n",
              "                        }\n",
              "                        element.appendChild(document.createTextNode(''));\n",
              "                        const url = await google.colab.kernel.proxyPort(port, {cache});\n",
              "\n",
              "                        const external_link = document.createElement('div');\n",
              "                        external_link.innerHTML = `\n",
              "                            <div style=\"font-family: monospace; margin-bottom: 0.5rem\">\n",
              "                                Running on <a href=${new URL(path, url).toString()} target=\"_blank\">\n",
              "                                    https://localhost:${port}${path}\n",
              "                                </a>\n",
              "                            </div>\n",
              "                        `;\n",
              "                        element.appendChild(external_link);\n",
              "\n",
              "                        const iframe = document.createElement('iframe');\n",
              "                        iframe.src = new URL(path, url).toString();\n",
              "                        iframe.height = height;\n",
              "                        iframe.allow = \"autoplay; camera; microphone; clipboard-read; clipboard-write;\"\n",
              "                        iframe.width = width;\n",
              "                        iframe.style.border = 0;\n",
              "                        element.appendChild(iframe);\n",
              "                    })(7860, \"/\", \"100%\", 500, false, window.element)"
            ]
          },
          "metadata": {}
        },
        {
          "output_type": "stream",
          "name": "stdout",
          "text": [
            "Keyboard interruption in main thread... closing server.\n"
          ]
        }
      ]
    },
    {
      "cell_type": "markdown",
      "source": [
        "# Tool Tests"
      ],
      "metadata": {
        "id": "ZQ02m2ARb8cO"
      }
    },
    {
      "cell_type": "code",
      "source": [
        "from langchain.llms import OpenAI\n",
        "from langchain.agents import initialize_agent, AgentType\n",
        "from langchain.tools import BaseTool, StructuredTool, Tool"
      ],
      "metadata": {
        "id": "AeaEhnYJb-LV"
      },
      "execution_count": null,
      "outputs": []
    },
    {
      "cell_type": "code",
      "source": [
        "import os\n",
        "os.environ[\"LANGCHAIN_TRACING\"] = \"true\"\n",
        "#llm = OpenAI(temperature=0)\n",
        "llm = ChatOpenAI(temperature=0, model='gpt-4-0613')"
      ],
      "metadata": {
        "id": "Zs1dGiVGcmtD"
      },
      "execution_count": null,
      "outputs": []
    },
    {
      "cell_type": "code",
      "source": [
        "# Tool 1\n",
        "def multiplier(a: float, b: float) -> float:\n",
        "    \"\"\"Multiply the provided floats.\"\"\"\n",
        "    return a * b\n",
        "\n",
        "tool = StructuredTool.from_function(multiplier)\n",
        "\n",
        "agent_executor = initialize_agent(\n",
        "    [tool],\n",
        "    llm,\n",
        "    agent=AgentType.STRUCTURED_CHAT_ZERO_SHOT_REACT_DESCRIPTION,\n",
        "    verbose=True,\n",
        ")\n",
        "agent_executor.run(\"What is 3 times 4\")"
      ],
      "metadata": {
        "id": "LtfgVAjZc14k"
      },
      "execution_count": null,
      "outputs": []
    },
    {
      "cell_type": "code",
      "source": [
        "# Tool 2\n",
        "def calculate_insurance_premium(insured_sum: int, industry: str) -> float:\n",
        "    \"\"\"Calculate the premium for an insurance based on the maximum insured sum and the industry of the customer.\"\"\"\n",
        "    premium = insured_sum*0.25\n",
        "    return premium\n",
        "\n",
        "tool = StructuredTool.from_function(calculate_insurance_premium, return_direct=True)\n",
        "\n",
        "agent_executor = initialize_agent(\n",
        "    [tool],\n",
        "    llm,\n",
        "    agent=AgentType.STRUCTURED_CHAT_ZERO_SHOT_REACT_DESCRIPTION,\n",
        "    verbose=True,\n",
        ")\n",
        "agent_executor.run(\"Give me the premium for an insured sum of 10000000\")"
      ],
      "metadata": {
        "id": "dF2g6iTCdM0P",
        "outputId": "dbc3a9b3-0bf6-4751-fa31-53d5ec9e9900",
        "colab": {
          "base_uri": "https://localhost:8080/",
          "height": 327
        }
      },
      "execution_count": null,
      "outputs": [
        {
          "output_type": "stream",
          "name": "stderr",
          "text": [
            "WARNING:langchain.callbacks.tracers.langchain_v1:Failed to load default session, using empty session: HTTPConnectionPool(host='localhost', port=8000): Max retries exceeded with url: /sessions?name=default (Caused by NewConnectionError('<urllib3.connection.HTTPConnection object at 0x7bca605c7eb0>: Failed to establish a new connection: [Errno 111] Connection refused'))\n"
          ]
        },
        {
          "output_type": "stream",
          "name": "stdout",
          "text": [
            "\n",
            "\n",
            "\u001b[1m> Entering new AgentExecutor chain...\u001b[0m\n"
          ]
        },
        {
          "output_type": "stream",
          "name": "stderr",
          "text": [
            "WARNING:langchain.callbacks.tracers.langchain_v1:Failed to persist run: HTTPConnectionPool(host='localhost', port=8000): Max retries exceeded with url: /chain-runs (Caused by NewConnectionError('<urllib3.connection.HTTPConnection object at 0x7bca605c5420>: Failed to establish a new connection: [Errno 111] Connection refused'))\n"
          ]
        },
        {
          "output_type": "stream",
          "name": "stdout",
          "text": [
            "\u001b[32;1m\u001b[1;3mThe user has asked for the premium for an insured sum but has not provided the industry. I need to ask for the industry to be able to calculate the premium. \n",
            "\n",
            "Action:\n",
            "```\n",
            "{\n",
            "  \"action\": \"Final Answer\",\n",
            "  \"action_input\": \"Could you please specify the industry for which you want to calculate the insurance premium?\"\n",
            "}\n",
            "```\u001b[0m\n",
            "\n",
            "\u001b[1m> Finished chain.\u001b[0m\n"
          ]
        },
        {
          "output_type": "execute_result",
          "data": {
            "text/plain": [
              "'Could you please specify the industry for which you want to calculate the insurance premium?'"
            ],
            "application/vnd.google.colaboratory.intrinsic+json": {
              "type": "string"
            }
          },
          "metadata": {},
          "execution_count": 55
        }
      ]
    }
  ]
}