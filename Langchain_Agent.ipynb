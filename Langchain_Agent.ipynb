{
  "nbformat": 4,
  "nbformat_minor": 0,
  "metadata": {
    "colab": {
      "provenance": [],
      "authorship_tag": "ABX9TyMV78ok7y43dcxYpb5FrIiI",
      "include_colab_link": true
    },
    "kernelspec": {
      "name": "python3",
      "display_name": "Python 3"
    },
    "language_info": {
      "name": "python"
    }
  },
  "cells": [
    {
      "cell_type": "markdown",
      "metadata": {
        "id": "view-in-github",
        "colab_type": "text"
      },
      "source": [
        "<a href=\"https://colab.research.google.com/github/aknip/Langchain-etc./blob/main/Langchain_Agent.ipynb\" target=\"_parent\"><img src=\"https://colab.research.google.com/assets/colab-badge.svg\" alt=\"Open In Colab\"/></a>"
      ]
    },
    {
      "cell_type": "code",
      "source": [
        "import psutil\n",
        "IN_NOTEBOOK = any([\"jupyter-notebook\" in i for i in psutil.Process().parent().cmdline()])"
      ],
      "metadata": {
        "id": "K_sEe-A1S56l"
      },
      "execution_count": null,
      "outputs": []
    },
    {
      "cell_type": "code",
      "execution_count": null,
      "metadata": {
        "id": "afIkZ1hD4RYB"
      },
      "outputs": [],
      "source": [
        "#!pip install langchain langchainhub langchain_experimental openai streamlit -q\n",
        "#!pip install google-search-results wikipedia -q"
      ]
    },
    {
      "cell_type": "code",
      "source": [
        "import json\n",
        "import os\n",
        "from getpass import getpass\n",
        "if IN_NOTEBOOK:\n",
        "  CREDS = json.loads(getpass(\"Secrets (JSON string): \"))\n",
        "  os.environ['CREDS'] = json.dumps(CREDS)\n",
        "  CREDS = json.loads(os.getenv('CREDS'))"
      ],
      "metadata": {
        "colab": {
          "base_uri": "https://localhost:8080/"
        },
        "id": "IWrCvpKaENeu",
        "outputId": "57b49f4f-4ecc-4816-80a1-d45a2ab76780"
      },
      "execution_count": null,
      "outputs": [
        {
          "name": "stdout",
          "output_type": "stream",
          "text": [
            "Secrets (JSON string): ··········\n"
          ]
        }
      ]
    },
    {
      "cell_type": "code",
      "source": [
        "from langchain.agents import Tool, AgentExecutor\n",
        "from langchain.memory import ConversationBufferMemory\n",
        "from langchain.chat_models import ChatOpenAI\n",
        "from langchain import hub\n",
        "from langchain.prompts import ChatPromptTemplate, MessagesPlaceholder\n",
        "from langchain.utilities import SerpAPIWrapper, SQLDatabase, WikipediaAPIWrapper\n",
        "from langchain_experimental.sql import SQLDatabaseChain\n",
        "from langchain.tools import WikipediaQueryRun\n",
        "from langchain.agents.format_scratchpad import format_to_openai_functions\n",
        "from langchain.agents.output_parsers import OpenAIFunctionsAgentOutputParser\n",
        "from langchain.tools.render import format_tool_to_openai_function\n",
        "import os\n",
        "import langchain\n",
        "import openai\n",
        "import streamlit as st\n",
        "import textwrap"
      ],
      "metadata": {
        "id": "CEhw8Ye15BgC"
      },
      "execution_count": null,
      "outputs": []
    },
    {
      "cell_type": "code",
      "source": [
        "# Download \"Chinook\" Music Sales DB\n",
        "import os\n",
        "import requests\n",
        "import zipfile\n",
        "fname = 'chinook.zip'\n",
        "url = 'https://www.sqlitetutorial.net/wp-content/uploads/2018/03/' + fname\n",
        "r = requests.get(url)\n",
        "open(fname, 'wb').write(r.content)\n",
        "zipfile.ZipFile('chinook.zip').extractall()\n",
        "assert os.path.exists('chinook.db')"
      ],
      "metadata": {
        "id": "NE6D9WvpGL1t"
      },
      "execution_count": null,
      "outputs": []
    },
    {
      "cell_type": "code",
      "source": [
        "os.environ[\"OPENAI_API_KEY\"] = CREDS['OpenAI']['v2']['credential']\n",
        "llm = ChatOpenAI(temperature=0, model='gpt-4-0613')\n",
        "search = SerpAPIWrapper(serpapi_api_key=CREDS['SERP-API']['key']['credential'])\n",
        "db = SQLDatabase.from_uri(\"sqlite:///chinook.db\")\n",
        "db_chain = SQLDatabaseChain.from_llm(llm, db, verbose=True)\n",
        "wikipedia = WikipediaQueryRun(api_wrapper=WikipediaAPIWrapper())\n",
        "tools = [\n",
        "    Tool(\n",
        "        name = \"Search\",\n",
        "        func=search.run,\n",
        "        description=\"useful for when you need to answer questions about real-time events. You should ask targeted questions\"\n",
        "    ),\n",
        "    Tool(\n",
        "        name=\"Wikipedia\",\n",
        "        func=wikipedia.run,\n",
        "        description=\"useful for when you need to answer questions about a big picture or background of something.\"\n",
        "    ),\n",
        "    Tool(\n",
        "        name=\"MusicSales\",\n",
        "        func=db_chain.run,\n",
        "        description=\"useful for when you need to answer questions about mucis sales in a store. Should be strickly follow the tables info.\"\n",
        "    )\n",
        "]\n",
        "\n",
        "prompt = ChatPromptTemplate.from_messages([\n",
        "    (\"system\", \"You are a useful assistant.\"),\n",
        "    MessagesPlaceholder(variable_name='chat_history'),\n",
        "    (\"user\", \"{input}\"),\n",
        "    MessagesPlaceholder(variable_name=\"agent_scratchpad\"),\n",
        "])\n",
        "\n",
        "llm_with_tools = llm.bind(\n",
        "    functions=[format_tool_to_openai_function(t) for t in tools]\n",
        ")\n",
        "\n",
        "agent = {\n",
        "    \"input\": lambda x: x[\"input\"],\n",
        "    \"agent_scratchpad\": lambda x: format_to_openai_functions(x['intermediate_steps']),\n",
        "    \"chat_history\": lambda x: x[\"chat_history\"]\n",
        "} | prompt | llm_with_tools | OpenAIFunctionsAgentOutputParser()\n",
        "\n",
        "memory = ConversationBufferMemory(memory_key=\"chat_history\", return_messages=True)\n",
        "agent_executor = AgentExecutor(agent=agent, tools=tools, verbose=True, memory=memory)\n"
      ],
      "metadata": {
        "id": "HcePPP4M5HPE"
      },
      "execution_count": null,
      "outputs": []
    },
    {
      "cell_type": "markdown",
      "source": [
        "# Single prompt"
      ],
      "metadata": {
        "id": "dij8ZZWdbC5k"
      }
    },
    {
      "cell_type": "code",
      "source": [
        "prompt = \"How many people live in the US?\"\n",
        "# prompt = \"What is the best selling song in the music store?\"\n",
        "# prompt = \"What is the cheapest album in the music store? Tell me the price.\"\n",
        "# prompt = \"What is the best selling song starting with the letter 'F' in the music store? Tell me title and artist.\"\n",
        "# prompt = \"How is the weather now in Cologne? Please use Celsius as unit for temperature.\"\n",
        "response = agent_executor.invoke({\"input\": prompt})"
      ],
      "metadata": {
        "colab": {
          "base_uri": "https://localhost:8080/"
        },
        "id": "EA-3_QJj6tWN",
        "outputId": "66bac396-3864-4c55-dd53-d30553de71db"
      },
      "execution_count": null,
      "outputs": [
        {
          "output_type": "stream",
          "name": "stdout",
          "text": [
            "\n",
            "\n",
            "\u001b[1m> Entering new AgentExecutor chain...\u001b[0m\n",
            "\u001b[32;1m\u001b[1;3m\n",
            "Invoking: `Wikipedia` with `Demographics of the United States`\n",
            "\n",
            "\n",
            "\u001b[0m\u001b[33;1m\u001b[1;3mPage: Demographics of the United States\n",
            "Summary: The United States had an official estimated resident population of 333,287,557 on July 1, 2022, according to the U.S. Census Bureau. This figure includes the 50 states and the District of Columbia but excludes the population of five unincorporated U.S. territories (Puerto Rico, Guam, the U.S. Virgin Islands, American Samoa, and the Northern Mariana Islands) as well as several minor island possessions. The United States is the third most populous country in the world. The Census Bureau showed a population increase of 0.4% for the twelve-month period ending in July 2022, below the world average annual rate of 0.9%. The total fertility rate in the United States estimated for 2022 is 1.665 children per woman, which is below the replacement fertility rate of approximately 2.1.\n",
            "The U.S. population almost quadrupled during the 20th century – at a growth rate of about 1.3% a year – from about 76 million in 1900 to 281 million in 2000. It is estimated to have reached the 200 million mark in 1967, and the 300 million mark on October 17, 2006. Foreign-born immigration caused the U.S. population to continue its rapid increase, with the foreign-born population doubling from almost 20 million in 1990 to over 45 million in 2015, representing one-third of the population increase. The U.S. population grew by 1.6 million from 2018 to 2019, with 38% of growth from immigration. Population growth is fastest among minorities as a whole, and according to the Census Bureau's 2020 estimation, 50% of U.S. children under the age of 18 are members of ethnic minority groups. \n",
            "As of 2020, white people numbered 235,411,507 or 71% of the population, including people who identified as white in combination with another race. People who identified as white alone (including Hispanic whites) numbered 204,277,273 or 61.6% of the population and Non-Latino whites made up 57.8% of the country's population.Latino Americans accounted for 51.1% of the total national population growth between 2010 and 2020, increasing from 50.5 million in 2010 to 62.1 million in 2020. The Hispanic or Latino population increased by 23% between 2010 and 2020, an increase of more than 11.6 million. Immigrants and their U.S.-born descendants are expected to provide most of the U.S. population gains in the decades ahead.Asian Americans are the fastest growing racial group in America, with a growth rate of 35%. However, multi-racial Asian Americans are the fastest growing group in the country, with a growth rate of 55%, reflecting the increase of mixed-race marriages in the United States.As of 2022, births to White American mothers remain around 50% of the US total, reflecting a decline of 3% compared to 2021. In the same time period, births to Asian American and Hispanic women increased by 2% and 6%, respectively.The 12 month ending general fertility rate increased from 56.6 to 57.0 in 2022 Q1 compared to 2021 Q4.\n",
            "\n",
            "Page: Historical racial and ethnic demographics of the United States\n",
            "Summary: The racial and ethnic demographics of the United States have changed dramatically throughout its history.\n",
            "\n",
            "\n",
            "\n",
            "Page: LGBT demographics of the United States\n",
            "Summary: The demographics of sexual orientation and gender identity in the United States have been studied in the social sciences in recent decades. A 2022 Gallup poll concluded that 7.1% of adult Americans identified as LGBT. A different survey in 2016, from the Williams Institute, estimated that 0.6% of U.S. adults identify as transgender. As of 2022, estimates for the total percentage of U.S. adults that are transgender or nonbinary range from 0.5% to 1.6%. Additionally, a Pew Research survey from 2022 found that approximately 5% of young adults in the U.S. say their gender is different from their sex assigned at birth.Studies from several nations, including the U.S., conducted at varying time periods, have produced a statistical range of 1.2 to 6.8 percent of the adult population identifying as LGBT. O\u001b[0m\u001b[32;1m\u001b[1;3mAs of July 1, 2022, the estimated resident population of the United States is approximately 333,287,557. This figure includes the 50 states and the District of Columbia but excludes the population of five unincorporated U.S. territories and several minor island possessions. The United States is the third most populous country in the world.\u001b[0m\n",
            "\n",
            "\u001b[1m> Finished chain.\u001b[0m\n"
          ]
        }
      ]
    },
    {
      "cell_type": "code",
      "source": [
        "print(textwrap.fill(str(response[\"input\"]), 80))\n",
        "print()\n",
        "print(textwrap.fill(str(response[\"output\"]), 80))\n",
        "print()\n",
        "chat_history_string = str(response[\"chat_history\"]).replace(\"), \", \")§§§ \")[1:-1]\n",
        "chat_history = chat_history_string.split(\"§§§ \")\n",
        "msg_history = []\n",
        "for chat_string in chat_history:\n",
        "  tmp = chat_string.split(\"(content='\")\n",
        "  msg_history.append({\"role\": tmp[0], \"content\": tmp[1][:-2]})\n",
        "for msg in msg_history:\n",
        "  print(msg)"
      ],
      "metadata": {
        "colab": {
          "base_uri": "https://localhost:8080/"
        },
        "id": "9Zsnvgf6BRaV",
        "outputId": "6b02ce6c-296d-4393-ba34-cbadc55111f1"
      },
      "execution_count": null,
      "outputs": [
        {
          "output_type": "stream",
          "name": "stdout",
          "text": [
            "How many people live in the US?\n",
            "\n",
            "As of July 1, 2022, the estimated resident population of the United States is\n",
            "approximately 333,287,557. This figure includes the 50 states and the District\n",
            "of Columbia but excludes the population of five unincorporated U.S. territories\n",
            "and several minor island possessions. The United States is the third most\n",
            "populous country in the world.\n",
            "\n",
            "{'role': 'HumanMessage', 'content': 'How is the weather now in Cologne?'}\n",
            "{'role': 'AIMessage', 'content': 'The current weather in Cologne, Germany is partly cloudy with a temperature of 60 degrees Fahrenheit. The humidity is at 68% and there is a wind speed of 8 mph. The chance of precipitation is 1%.'}\n",
            "{'role': 'HumanMessage', 'content': 'Please use Celsius as unit for temperature.'}\n",
            "{'role': 'AIMessage', 'content': 'I apologize for the confusion. The current temperature in Cologne, Germany is approximately 15.5 degrees Celsius. The weather is partly cloudy with a humidity of 68% and wind speed of 8 mph. The chance of precipitation is 1%.'}\n",
            "{'role': 'HumanMessage', 'content': 'In which federal state is this city?'}\n",
            "{'role': 'AIMessage', 'content': 'Cologne is located in the German western state of North Rhine-Westphalia (NRW).'}\n",
            "{'role': 'HumanMessage', 'content': 'What language is spoken there?'}\n",
            "{'role': 'AIMessage', 'content': 'The official language spoken in Cologne, like the rest of Germany, is German. However, the city has its own dialect known as Kölsch, which is used by some locals in everyday conversation. Additionally, due to its status as a major international city, English is also widely spoken.'}\n",
            "{'role': 'HumanMessage', 'content': 'How many people live in the US?'}\n",
            "{'role': 'AIMessage', 'content': 'As of July 1, 2022, the estimated resident population of the United States is approximately 333,287,557. This figure includes the 50 states and the District of Columbia but excludes the population of five unincorporated U.S. territories and several minor island possessions. The United States is the third most populous country in the world.'}\n"
          ]
        }
      ]
    },
    {
      "cell_type": "markdown",
      "source": [
        "# Chatbot with memory"
      ],
      "metadata": {
        "id": "-fL3b1FXIx9I"
      }
    },
    {
      "cell_type": "code",
      "source": [
        "memory = ConversationBufferMemory(memory_key=\"chat_history\", return_messages=True)\n",
        "agent_executor = AgentExecutor(agent=agent, tools=tools, verbose=True, memory=memory)\n",
        "messages = [{\"role\": \"assistant\", \"content\": \"How can I help you?\"}]\n",
        "for msg in messages:\n",
        "    #st.chat_message(msg[\"role\"]).write(msg[\"content\"])\n",
        "    print(msg[\"role\"] + \": \" + msg[\"content\"])"
      ],
      "metadata": {
        "colab": {
          "base_uri": "https://localhost:8080/"
        },
        "id": "qVfrjxhuUbn9",
        "outputId": "7f3f4c7d-a695-4626-ce76-beaed60d79b5"
      },
      "execution_count": null,
      "outputs": [
        {
          "output_type": "stream",
          "name": "stdout",
          "text": [
            "assistant: How can I help you?\n"
          ]
        }
      ]
    },
    {
      "cell_type": "code",
      "source": [
        "prompt = \"And the temperature in Celsius?\"\n",
        "messages.append({\"role\": \"user\", \"content\": prompt})\n",
        "print(\"user: \" + prompt)\n",
        "response = agent_executor.invoke({\"input\": prompt})\n",
        "msg = {\"role\": \"assistant\", \"content\": response[\"output\"]}\n",
        "messages.append(msg)\n",
        "print(textwrap.fill(\"assistant: \" + response[\"output\"], 80))\n",
        "print(\"\\nHistory:\")\n",
        "for msg in messages:\n",
        "    #st.chat_message(msg[\"role\"]).write(msg[\"content\"])\n",
        "    print(textwrap.fill(msg[\"role\"] + \": \" + msg[\"content\"], 80))"
      ],
      "metadata": {
        "colab": {
          "base_uri": "https://localhost:8080/"
        },
        "id": "OjDvg8GSaSP8",
        "outputId": "95f987cc-31e2-41a9-d2da-f393033db80f"
      },
      "execution_count": null,
      "outputs": [
        {
          "output_type": "stream",
          "name": "stdout",
          "text": [
            "user: And the temperature in Celsius?\n",
            "\n",
            "\n",
            "\u001b[1m> Entering new AgentExecutor chain...\u001b[0m\n",
            "\u001b[32;1m\u001b[1;3m\n",
            "Invoking: `Search` with `current temperature in Celsius`\n",
            "\n",
            "\n",
            "\u001b[0m\u001b[36;1m\u001b[1;3m['National current temperatures map for the United States in degrees celsius.']\u001b[0m\u001b[32;1m\u001b[1;3mI'm sorry, but I can only provide a general temperature map for the United States in degrees Celsius. Could you please specify the location you're interested in?\u001b[0m\n",
            "\n",
            "\u001b[1m> Finished chain.\u001b[0m\n",
            "assistant: I'm sorry, but I can only provide a general temperature map for the\n",
            "United States in degrees Celsius. Could you please specify the location you're\n",
            "interested in?\n",
            "\n",
            "History:\n",
            "assistant: How can I help you?\n",
            "user: And the temperature in Celsius?\n",
            "assistant: I'm sorry, but I can only provide a general temperature map for the\n",
            "United States in degrees Celsius. Could you please specify the location you're\n",
            "interested in?\n"
          ]
        }
      ]
    },
    {
      "cell_type": "code",
      "source": [
        "print(\"Memory from response object:\")\n",
        "chat_history_string = str(response[\"chat_history\"]).replace(\"), \", \")§§§ \")[1:-1]\n",
        "chat_history = chat_history_string.split(\"§§§ \")\n",
        "msg_history = []\n",
        "for chat_string in chat_history:\n",
        "  tmp = chat_string.split(\"(content='\")\n",
        "  msg_history.append({\"role\": tmp[0], \"content\": tmp[1][:-2]})\n",
        "for msg in msg_history:\n",
        "  print(msg)"
      ],
      "metadata": {
        "colab": {
          "base_uri": "https://localhost:8080/",
          "height": 259
        },
        "id": "ZmCuWwuijWDD",
        "outputId": "ad63ab9c-875a-4fa9-846d-8494cc6beb46"
      },
      "execution_count": null,
      "outputs": [
        {
          "output_type": "stream",
          "name": "stdout",
          "text": [
            "Memory from response object:\n"
          ]
        },
        {
          "output_type": "error",
          "ename": "IndexError",
          "evalue": "ignored",
          "traceback": [
            "\u001b[0;31m---------------------------------------------------------------------------\u001b[0m",
            "\u001b[0;31mIndexError\u001b[0m                                Traceback (most recent call last)",
            "\u001b[0;32m<ipython-input-99-2dcd7b95a45c>\u001b[0m in \u001b[0;36m<cell line: 5>\u001b[0;34m()\u001b[0m\n\u001b[1;32m      5\u001b[0m \u001b[0;32mfor\u001b[0m \u001b[0mchat_string\u001b[0m \u001b[0;32min\u001b[0m \u001b[0mchat_history\u001b[0m\u001b[0;34m:\u001b[0m\u001b[0;34m\u001b[0m\u001b[0;34m\u001b[0m\u001b[0m\n\u001b[1;32m      6\u001b[0m   \u001b[0mtmp\u001b[0m \u001b[0;34m=\u001b[0m \u001b[0mchat_string\u001b[0m\u001b[0;34m.\u001b[0m\u001b[0msplit\u001b[0m\u001b[0;34m(\u001b[0m\u001b[0;34m\"(content='\"\u001b[0m\u001b[0;34m)\u001b[0m\u001b[0;34m\u001b[0m\u001b[0;34m\u001b[0m\u001b[0m\n\u001b[0;32m----> 7\u001b[0;31m   \u001b[0mmsg_history\u001b[0m\u001b[0;34m.\u001b[0m\u001b[0mappend\u001b[0m\u001b[0;34m(\u001b[0m\u001b[0;34m{\u001b[0m\u001b[0;34m\"role\"\u001b[0m\u001b[0;34m:\u001b[0m \u001b[0mtmp\u001b[0m\u001b[0;34m[\u001b[0m\u001b[0;36m0\u001b[0m\u001b[0;34m]\u001b[0m\u001b[0;34m,\u001b[0m \u001b[0;34m\"content\"\u001b[0m\u001b[0;34m:\u001b[0m \u001b[0mtmp\u001b[0m\u001b[0;34m[\u001b[0m\u001b[0;36m1\u001b[0m\u001b[0;34m]\u001b[0m\u001b[0;34m[\u001b[0m\u001b[0;34m:\u001b[0m\u001b[0;34m-\u001b[0m\u001b[0;36m2\u001b[0m\u001b[0;34m]\u001b[0m\u001b[0;34m}\u001b[0m\u001b[0;34m)\u001b[0m\u001b[0;34m\u001b[0m\u001b[0;34m\u001b[0m\u001b[0m\n\u001b[0m\u001b[1;32m      8\u001b[0m \u001b[0;32mfor\u001b[0m \u001b[0mmsg\u001b[0m \u001b[0;32min\u001b[0m \u001b[0mmsg_history\u001b[0m\u001b[0;34m:\u001b[0m\u001b[0;34m\u001b[0m\u001b[0;34m\u001b[0m\u001b[0m\n\u001b[1;32m      9\u001b[0m   \u001b[0mprint\u001b[0m\u001b[0;34m(\u001b[0m\u001b[0mmsg\u001b[0m\u001b[0;34m)\u001b[0m\u001b[0;34m\u001b[0m\u001b[0;34m\u001b[0m\u001b[0m\n",
            "\u001b[0;31mIndexError\u001b[0m: list index out of range"
          ]
        }
      ]
    },
    {
      "cell_type": "markdown",
      "source": [
        "# Chat"
      ],
      "metadata": {
        "id": "IO36q4QOa8GC"
      }
    },
    {
      "cell_type": "code",
      "source": [
        "  !pip install gradio -q\n",
        "  %load_ext gradio"
      ],
      "metadata": {
        "id": "SWqv1gumJSWq"
      },
      "execution_count": null,
      "outputs": []
    },
    {
      "cell_type": "code",
      "source": [
        "def run_gradio_app():\n",
        "  import gradio as gr\n",
        "  import random\n",
        "  import time\n",
        "\n",
        "  # Theming\n",
        "  theme = gr.themes.Default(\n",
        "      primary_hue=\"slate\" # , radius_size=gr.themes.Size(radius_sm=\"3px\", radius_xs=\"2px\", radius_xxs=\"1px\")\n",
        "  )\n",
        "  # Styling: Change max width\n",
        "  css = \"\"\"\n",
        "    .gradio-container {max-width: 800px!important}\n",
        "    .vspacer1 {margin-top: 20px}\n",
        "  \"\"\"\n",
        "\n",
        "  with gr.Blocks(theme=theme, css=css) as demo:\n",
        "\n",
        "      gr.Markdown(\"# Agent Chat\", elem_classes=\"vspacer1\")\n",
        "\n",
        "      with gr.Tab(\"Chat\"):\n",
        "        # https://www.gradio.app/docs/chatbot\n",
        "\n",
        "        chatbot = gr.Chatbot(bubble_full_width=False)\n",
        "        msg = gr.Textbox()\n",
        "        clear = gr.ClearButton([msg, chatbot])\n",
        "\n",
        "        # Init agent and memory\n",
        "        memory = ConversationBufferMemory(memory_key=\"chat_history\", return_messages=True)\n",
        "        agent_executor = AgentExecutor(agent=agent, tools=tools, verbose=True, memory=memory)\n",
        "        messages = [{\"role\": \"assistant\", \"content\": \"How can I help you?\"}]\n",
        "        #chatbot.append(None, \"How can I help you?\")\n",
        "\n",
        "        def ask(message, chat_history):\n",
        "            chat_history.append((message, None))\n",
        "            messages.append({\"role\": \"user\", \"content\": message})\n",
        "            return \"\", chat_history\n",
        "\n",
        "        def respond(chat_history):\n",
        "            prompt = chat_history[-1][0] # get prompt from history (last entry)\n",
        "            response = agent_executor.invoke({\"input\": prompt})\n",
        "            msg = {\"role\": \"assistant\", \"content\": response[\"output\"]}\n",
        "            messages.append(msg)\n",
        "            chat_history.append((None, response[\"output\"]))\n",
        "            print(\"\\n\\nMemory from response object:\")\n",
        "            print(textwrap.fill(str(response[\"chat_history\"]), 80))\n",
        "            return chat_history\n",
        "\n",
        "        msg.submit(ask, [msg, chatbot], [msg, chatbot], queue=False).then(\n",
        "          respond, chatbot, chatbot\n",
        "        )\n",
        "\n",
        "\n",
        "  demo.launch(quiet=True, share=False, debug=True)\n",
        "\n",
        "run_gradio_app()"
      ],
      "metadata": {
        "id": "RW6M3o8PJGYq",
        "outputId": "3e1955db-d4c5-459c-effb-dc5546d40237",
        "colab": {
          "base_uri": "https://localhost:8080/",
          "height": 1000
        }
      },
      "execution_count": null,
      "outputs": [
        {
          "output_type": "display_data",
          "data": {
            "text/plain": [
              "<IPython.core.display.Javascript object>"
            ],
            "application/javascript": [
              "(async (port, path, width, height, cache, element) => {\n",
              "                        if (!google.colab.kernel.accessAllowed && !cache) {\n",
              "                            return;\n",
              "                        }\n",
              "                        element.appendChild(document.createTextNode(''));\n",
              "                        const url = await google.colab.kernel.proxyPort(port, {cache});\n",
              "\n",
              "                        const external_link = document.createElement('div');\n",
              "                        external_link.innerHTML = `\n",
              "                            <div style=\"font-family: monospace; margin-bottom: 0.5rem\">\n",
              "                                Running on <a href=${new URL(path, url).toString()} target=\"_blank\">\n",
              "                                    https://localhost:${port}${path}\n",
              "                                </a>\n",
              "                            </div>\n",
              "                        `;\n",
              "                        element.appendChild(external_link);\n",
              "\n",
              "                        const iframe = document.createElement('iframe');\n",
              "                        iframe.src = new URL(path, url).toString();\n",
              "                        iframe.height = height;\n",
              "                        iframe.allow = \"autoplay; camera; microphone; clipboard-read; clipboard-write;\"\n",
              "                        iframe.width = width;\n",
              "                        iframe.style.border = 0;\n",
              "                        element.appendChild(iframe);\n",
              "                    })(7860, \"/\", \"100%\", 500, false, window.element)"
            ]
          },
          "metadata": {}
        },
        {
          "output_type": "stream",
          "name": "stdout",
          "text": [
            "\n",
            "\n",
            "\u001b[1m> Entering new AgentExecutor chain...\u001b[0m\n",
            "\u001b[32;1m\u001b[1;3m\n",
            "Invoking: `Search` with `weather in Munich`\n",
            "\n",
            "\n",
            "\u001b[0m\u001b[36;1m\u001b[1;3m{'type': 'weather_result', 'temperature': '65', 'unit': 'Fahrenheit', 'precipitation': '0%', 'humidity': '52%', 'wind': '3 mph', 'location': 'Munich, Germany', 'date': 'Friday 1:00 PM', 'weather': 'Sunny'}\u001b[0m\u001b[32;1m\u001b[1;3mThe weather in Munich, Germany is currently sunny with a temperature of 65 degrees Fahrenheit. The humidity is at 52% and there is a wind speed of 3 mph. There is no precipitation expected.\u001b[0m\n",
            "\n",
            "\u001b[1m> Finished chain.\u001b[0m\n",
            "\n",
            "\n",
            "Memory from response object:\n",
            "[HumanMessage(content='how is the weather in Munich?'), AIMessage(content='The\n",
            "weather in Munich, Germany is currently sunny with a temperature of 65 degrees\n",
            "Fahrenheit. The humidity is at 52% and there is a wind speed of 3 mph. There is\n",
            "no precipitation expected.')]\n",
            "\n",
            "\n",
            "\u001b[1m> Entering new AgentExecutor chain...\u001b[0m\n",
            "\u001b[32;1m\u001b[1;3m\n",
            "Invoking: `Wikipedia` with `Munich`\n",
            "\n",
            "\n",
            "\u001b[0m\u001b[33;1m\u001b[1;3mPage: Munich\n",
            "Summary: Munich ( MEW-nik; German: München [ˈmʏnçn̩] ; Bavarian: Minga [ˈmɪŋ(ː)ɐ] ) is the capital and most populous city of the Free State of Bavaria. With a population of 1,578,132 inhabitants as of 31 May 2022, it is the third-largest city in Germany, after Berlin and Hamburg, and thus the largest which does not constitute its own state, as well as the 11th-largest city in the European Union. The city's metropolitan region is home to about 6 million people.Straddling the banks of the River Isar north of the Alps, Munich is the seat of the Bavarian administrative region of Upper Bavaria, while being the most densely populated municipality in Germany with 4,500 people per km2. Munich is the second-largest city in the Bavarian dialect area, after the Austrian capital of Vienna.\n",
            "The city was first mentioned in 1158. Catholic Munich strongly resisted the Reformation and was a political point of divergence during the resulting Thirty Years' War, but remained physically untouched despite an occupation by the Protestant Swedes. Once Bavaria was established as Kingdom of Bavaria in 1806, Munich became a major European centre of arts, architecture, culture and science. In 1918, during the German Revolution of 1918–19, the ruling House of Wittelsbach, which had governed Bavaria since 1180, was forced to abdicate in Munich and a short-lived Bavarian Soviet Republic was declared. In the 1920s, Munich became home to several political factions, among them the Nazi Party. After the Nazis' rise to power, Munich was declared their \"Capital of the Movement\". The city was heavily bombed during World War II, but has restored most of its old town. After the end of postwar American occupation in 1949, there was a great increase in population and economic power during the years of Wirtschaftswunder. The city hosted the 1972 Summer Olympics.\n",
            "Today, Munich is a global centre of science, technology, finance, innovation, business, and tourism. Munich enjoys a very high standard and quality of living, reaching first in Germany and third worldwide according to the 2018 Mercer survey, and being rated the world's most liveable city by the Monocle's Quality of Life Survey 2018. Munich is consistently ranked as one of the most expensive cities in Germany in terms of real estate prices and rental costs.In 2021, 28.8 percent of Munich's residents were foreigners, and another 17.7 percent were German citizens with a migration background from a foreign country. Munich's economy is based on high tech, automobiles, and the service sector, as well as IT, biotechnology, engineering, and electronics. It has one of the strongest economies of any German city and the lowest unemployment rate of all cities in Germany with more than 1 million inhabitants. The city houses many multinational companies, such as BMW, Siemens, Allianz SE and Munich Re. In addition, Munich is home to two research universities, and a multitude of scientific institutions. Munich's numerous architectural and cultural attractions, sports events, exhibitions and its annual Oktoberfest, the world's largest Volksfest, attract considerable tourism.\n",
            "\n",
            "Page: FC Bayern Munich\n",
            "Summary: Fußball-Club Bayern München e. V. (FCB, pronounced [ˈfuːsbalˌklʊp ˈbaɪɐn ˈmʏnçn̩] ), also known as FC Bayern (pronounced [ˌɛft͡seː ˈbaɪɐn] ), Bayern Munich, or simply Bayern, is a German professional sports club based in Munich, Bavaria. It is best known for its professional men's association football team, which plays in the Bundesliga, the top tier of the German football league system. Bayern is the most successful club in German football history, having won a record 33 national titles, including 11 consecutively since 2013, and 20 national cups, along with numerous European honours.\n",
            "FC Bayern Munich was founded in 1900 by 11 football players, led by Franz John. Although Bayern won its first national championship in 1932, the club was not selected for the Bundesliga at its inception in 1963. The club had its p\u001b[0m\u001b[32;1m\u001b[1;3mAs of 31 May 2022, Munich has a population of 1,578,132 inhabitants. It is the third-largest city in Germany, after Berlin and Hamburg. The city's metropolitan region is home to about 6 million people.\u001b[0m\n",
            "\n",
            "\u001b[1m> Finished chain.\u001b[0m\n",
            "\n",
            "\n",
            "Memory from response object:\n",
            "[HumanMessage(content='how is the weather in Munich?'), AIMessage(content='The\n",
            "weather in Munich, Germany is currently sunny with a temperature of 65 degrees\n",
            "Fahrenheit. The humidity is at 52% and there is a wind speed of 3 mph. There is\n",
            "no precipitation expected.'), HumanMessage(content='how many people live\n",
            "there?'), AIMessage(content=\"As of 31 May 2022, Munich has a population of\n",
            "1,578,132 inhabitants. It is the third-largest city in Germany, after Berlin and\n",
            "Hamburg. The city's metropolitan region is home to about 6 million people.\")]\n",
            "\n",
            "\n",
            "\u001b[1m> Entering new AgentExecutor chain...\u001b[0m\n",
            "\u001b[32;1m\u001b[1;3m\n",
            "Invoking: `Wikipedia` with `Cologne`\n",
            "\n",
            "\n",
            "\u001b[0m\u001b[33;1m\u001b[1;3mPage: Cologne\n",
            "Summary: Cologne (  kə-LOHN; German: Köln [kœln] ; Kölsch: Kölle [ˈkœlə] ) is the largest city of the German western state of North Rhine-Westphalia (NRW) and the fourth-most populous city of Germany with nearly 1.1 million inhabitants in the city proper and over 3.1 million people in the urban region. Centered on the left (west) bank of the Rhine, Cologne is about 35 km (22 mi) southeast of NRW's state capital Düsseldorf and 25 km (16 mi) northwest of Bonn, the former capital of West Germany.\n",
            "The city's medieval Catholic Cologne Cathedral (Kölner Dom) is the third-tallest church and tallest cathedral in the world. It was constructed to house the Shrine of the Three Kings and is a globally recognized landmark and one of the most visited sights and pilgrimage destinations in Europe. The cityscape is further shaped by the Twelve Romanesque churches of Cologne, and Cologne is famous for Eau de Cologne, that has been produced in the city since 1709, and \"cologne\" has since come to be a generic term.\n",
            "Cologne was founded and established in Germanic Ubii territory in the 1st century CE as the Roman Colonia Agrippina, hence its name. Agrippina was later dropped (except in Latin), and Colonia became the name of the city in its own right, which developed into modern German as Köln. Cologne, the French version of the city's name, has become standard in English as well. Cologne functioned as the capital of the Roman province of Germania Inferior and as the headquarters of the Roman military in the region until occupied by the Franks in 462. During the Middle Ages the city flourished as being located on one of the most important major trade routes between east and western Europe (including the Brabant Road, Via Regia and Publica). Cologne was a free imperial city of the Holy Roman Empire and one of the major members of the trade union Hanseatic League. It was one of the largest European cities in medieval and renaissance times.\n",
            "Prior to World War II, the city had undergone occupations by the French (1794–1815) and the British (1918–1926), and was part of Prussia beginning in 1815. Cologne was one of the most heavily bombed cities in Germany during World War II. The bombing reduced the population by 93% mainly due to evacuation, and destroyed almost the entire millennia-old city center. The post-war rebuilding has resulted in a very mixed cityscape, restoring only major historic landmarks like city gates and churches (31 of them being Romanesque).\n",
            "Cologne is a major cultural center for the Rhineland; it hosts more than 30 museums and hundreds of galleries. There are many institutions of higher education, most notably the University of Cologne, one of Europe's oldest and largest universities; the Technical University of Cologne, Germany's largest university of applied sciences; and the German Sport University Cologne. It hosts three Max Planck science institutes and is a major research hub for the aerospace industry, with the German Aerospace Center and the European Astronaut Centre headquarters. It also has a significant chemical and automobile industry. Cologne Bonn Airport is a regional hub, the main airport for the region being Düsseldorf Airport. The Cologne Trade Fair hosts a number of trade shows.\n",
            "\n",
            "Page: Cologne Cathedral\n",
            "Summary: Cologne Cathedral (German: Kölner Dom, pronounced [ˌkœlnɐ ˈdoːm] , officially Hohe Domkirche Sankt Petrus, English: Cathedral Church of Saint Peter) is a cathedral in Cologne, North Rhine-Westphalia belonging to the Catholic Church. It is the seat of the Archbishop of Cologne and of the administration of the Archdiocese of Cologne. It is a renowned monument of German Catholicism and Gothic architecture and was declared a World Heritage Site in 1996. It is Germany's most visited landmark, attracting an average of 20,000 people a day. At 157 m (515 ft), the cathedral is the tallest twin-spired church in the world, the second tallest church in Europe after Ulm Minster, and the third tallest church\u001b[0m\u001b[32;1m\u001b[1;3mCologne is the largest city of the German western state of North Rhine-Westphalia and the fourth-most populous city of Germany with nearly 1.1 million inhabitants in the city proper and over 3.1 million people in the urban region. Therefore, Munich, with a population of 1,578,132 inhabitants, is larger than Cologne.\u001b[0m\n",
            "\n",
            "\u001b[1m> Finished chain.\u001b[0m\n",
            "\n",
            "\n",
            "Memory from response object:\n",
            "[HumanMessage(content='how is the weather in Munich?'), AIMessage(content='The\n",
            "weather in Munich, Germany is currently sunny with a temperature of 65 degrees\n",
            "Fahrenheit. The humidity is at 52% and there is a wind speed of 3 mph. There is\n",
            "no precipitation expected.'), HumanMessage(content='how many people live\n",
            "there?'), AIMessage(content=\"As of 31 May 2022, Munich has a population of\n",
            "1,578,132 inhabitants. It is the third-largest city in Germany, after Berlin and\n",
            "Hamburg. The city's metropolitan region is home to about 6 million people.\"),\n",
            "HumanMessage(content='is it larger than Cologne?'), AIMessage(content='Cologne\n",
            "is the largest city of the German western state of North Rhine-Westphalia and\n",
            "the fourth-most populous city of Germany with nearly 1.1 million inhabitants in\n",
            "the city proper and over 3.1 million people in the urban region. Therefore,\n",
            "Munich, with a population of 1,578,132 inhabitants, is larger than Cologne.')]\n",
            "Keyboard interruption in main thread... closing server.\n"
          ]
        }
      ]
    },
    {
      "cell_type": "code",
      "source": [
        "# BACKUP - WEG:\n",
        "def run_gradio_app():\n",
        "  import gradio as gr\n",
        "  import random\n",
        "  import time\n",
        "\n",
        "  # Theming\n",
        "  theme = gr.themes.Default(\n",
        "      primary_hue=\"slate\" # , radius_size=gr.themes.Size(radius_sm=\"3px\", radius_xs=\"2px\", radius_xxs=\"1px\")\n",
        "  )\n",
        "  # Styling: Change max width\n",
        "  css = \"\"\"\n",
        "    .gradio-container {max-width: 800px!important}\n",
        "    .vspacer1 {margin-top: 50px}\n",
        "  \"\"\"\n",
        "\n",
        "  with gr.Blocks(theme=theme, css=css) as demo:\n",
        "\n",
        "      gr.Markdown(\"# MyApp\", elem_classes=\"vspacer1\")\n",
        "      gr.Markdown(\"### Optimizing your work with LLMs.\")\n",
        "\n",
        "\n",
        "      #\n",
        "      # 1. Tab 1\n",
        "      #\n",
        "      with gr.Tab(\"Chat\"):\n",
        "        # https://www.gradio.app/docs/chatbot\n",
        "\n",
        "        chatbot = gr.Chatbot(bubble_full_width=False)\n",
        "        msg = gr.Textbox()\n",
        "        clear = gr.ClearButton([msg, chatbot])\n",
        "\n",
        "\n",
        "        def respond(message, chat_history):\n",
        "            bot_message = random.choice([\"How are you?\", \"I love you\", \"I'm very hungry\"])\n",
        "            chat_history.append((message, bot_message))\n",
        "            #time.sleep(2)\n",
        "            return \"\", chat_history\n",
        "\n",
        "        def respond1(message, chat_history):\n",
        "            chat_history.append((message, None))\n",
        "            return \"\", chat_history\n",
        "\n",
        "        def respond2(chat_history):\n",
        "            bot_message = random.choice([\"How are you?\", \"I love you\", \"I'm very hungry\"])\n",
        "            chat_history.append((None, bot_message))\n",
        "            chat_history = [['hello', bot_message]] # hack\n",
        "            time.sleep(2)\n",
        "            return chat_history\n",
        "\n",
        "        #msg.submit(respond, [msg, chatbot], [msg, chatbot])\n",
        "\n",
        "\n",
        "        msg.submit(respond1, [msg, chatbot], [msg, chatbot], queue=False).then(\n",
        "          respond2, chatbot, chatbot\n",
        "        )\n",
        "\n",
        "\n",
        "      #\n",
        "      # 2. Tab 2\n",
        "      #\n",
        "      with gr.Tab(\"Input Text \"):\n",
        "        gr.Markdown(\"Please enter text\")\n",
        "\n",
        "        # Input text via UI\n",
        "        gr.Markdown(\"### Input your text:\")\n",
        "        text_input = gr.Textbox(label=\"Enter text\", placeholder=\"Your text here...\", lines=10)\n",
        "        text_output = gr.Textbox(label=\"Result\")\n",
        "\n",
        "\n",
        "      #\n",
        "      # 3. Tab 3\n",
        "      #\n",
        "      with gr.Tab(\"Step 2\"):\n",
        "        gr.Markdown(\"Please select the optimization:\")\n",
        "        radio = gr.Radio(\n",
        "          [\"by headline\", \"by paragraph\", \"by §§§\"], label=\"Text split method\"\n",
        "        )\n",
        "        name = gr.Textbox(label=\"Name\", placeholder=\"Enter text...\")\n",
        "        output = gr.Textbox(label=\"Output Box\")\n",
        "\n",
        "\n",
        "  demo.launch(quiet=True, share=False, debug=True)\n",
        "\n",
        "run_gradio_app()"
      ],
      "metadata": {
        "id": "OApkNs_Bl6SB"
      },
      "execution_count": null,
      "outputs": []
    },
    {
      "cell_type": "markdown",
      "source": [
        "# Tool Tests"
      ],
      "metadata": {
        "id": "ZQ02m2ARb8cO"
      }
    },
    {
      "cell_type": "code",
      "source": [
        "from langchain.llms import OpenAI\n",
        "from langchain.agents import initialize_agent, AgentType\n",
        "from langchain.tools import BaseTool, StructuredTool, Tool"
      ],
      "metadata": {
        "id": "AeaEhnYJb-LV"
      },
      "execution_count": null,
      "outputs": []
    },
    {
      "cell_type": "code",
      "source": [
        "import os\n",
        "os.environ[\"LANGCHAIN_TRACING\"] = \"true\"\n",
        "#llm = OpenAI(temperature=0)\n",
        "llm = ChatOpenAI(temperature=0, model='gpt-4-0613')"
      ],
      "metadata": {
        "id": "Zs1dGiVGcmtD"
      },
      "execution_count": null,
      "outputs": []
    },
    {
      "cell_type": "code",
      "source": [
        "# Tool 1\n",
        "def multiplier(a: float, b: float) -> float:\n",
        "    \"\"\"Multiply the provided floats.\"\"\"\n",
        "    return a * b\n",
        "\n",
        "tool = StructuredTool.from_function(multiplier)\n",
        "\n",
        "agent_executor = initialize_agent(\n",
        "    [tool],\n",
        "    llm,\n",
        "    agent=AgentType.STRUCTURED_CHAT_ZERO_SHOT_REACT_DESCRIPTION,\n",
        "    verbose=True,\n",
        ")\n",
        "agent_executor.run(\"What is 3 times 4\")"
      ],
      "metadata": {
        "id": "LtfgVAjZc14k"
      },
      "execution_count": null,
      "outputs": []
    },
    {
      "cell_type": "code",
      "source": [
        "# Tool 2\n",
        "def calculate_insurance_premium(insured_sum: int, industry: str) -> float:\n",
        "    \"\"\"Calculate the premium for an insurance based on the maximum insured sum and the industry of the customer.\"\"\"\n",
        "    premium = insured_sum*0.25\n",
        "    return premium\n",
        "\n",
        "tool = StructuredTool.from_function(calculate_insurance_premium, return_direct=True)\n",
        "\n",
        "agent_executor = initialize_agent(\n",
        "    [tool],\n",
        "    llm,\n",
        "    agent=AgentType.STRUCTURED_CHAT_ZERO_SHOT_REACT_DESCRIPTION,\n",
        "    verbose=True,\n",
        ")\n",
        "agent_executor.run(\"Give me the premium for an insured sum of 10000000\")"
      ],
      "metadata": {
        "id": "dF2g6iTCdM0P",
        "outputId": "dbc3a9b3-0bf6-4751-fa31-53d5ec9e9900",
        "colab": {
          "base_uri": "https://localhost:8080/",
          "height": 327
        }
      },
      "execution_count": null,
      "outputs": [
        {
          "output_type": "stream",
          "name": "stderr",
          "text": [
            "WARNING:langchain.callbacks.tracers.langchain_v1:Failed to load default session, using empty session: HTTPConnectionPool(host='localhost', port=8000): Max retries exceeded with url: /sessions?name=default (Caused by NewConnectionError('<urllib3.connection.HTTPConnection object at 0x7bca605c7eb0>: Failed to establish a new connection: [Errno 111] Connection refused'))\n"
          ]
        },
        {
          "output_type": "stream",
          "name": "stdout",
          "text": [
            "\n",
            "\n",
            "\u001b[1m> Entering new AgentExecutor chain...\u001b[0m\n"
          ]
        },
        {
          "output_type": "stream",
          "name": "stderr",
          "text": [
            "WARNING:langchain.callbacks.tracers.langchain_v1:Failed to persist run: HTTPConnectionPool(host='localhost', port=8000): Max retries exceeded with url: /chain-runs (Caused by NewConnectionError('<urllib3.connection.HTTPConnection object at 0x7bca605c5420>: Failed to establish a new connection: [Errno 111] Connection refused'))\n"
          ]
        },
        {
          "output_type": "stream",
          "name": "stdout",
          "text": [
            "\u001b[32;1m\u001b[1;3mThe user has asked for the premium for an insured sum but has not provided the industry. I need to ask for the industry to be able to calculate the premium. \n",
            "\n",
            "Action:\n",
            "```\n",
            "{\n",
            "  \"action\": \"Final Answer\",\n",
            "  \"action_input\": \"Could you please specify the industry for which you want to calculate the insurance premium?\"\n",
            "}\n",
            "```\u001b[0m\n",
            "\n",
            "\u001b[1m> Finished chain.\u001b[0m\n"
          ]
        },
        {
          "output_type": "execute_result",
          "data": {
            "text/plain": [
              "'Could you please specify the industry for which you want to calculate the insurance premium?'"
            ],
            "application/vnd.google.colaboratory.intrinsic+json": {
              "type": "string"
            }
          },
          "metadata": {},
          "execution_count": 55
        }
      ]
    }
  ]
}