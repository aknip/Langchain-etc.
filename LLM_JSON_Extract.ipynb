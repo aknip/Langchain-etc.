{
  "nbformat": 4,
  "nbformat_minor": 0,
  "metadata": {
    "colab": {
      "provenance": [],
      "authorship_tag": "ABX9TyOvIYg7aGZFX0OnTUUrt92S",
      "include_colab_link": true
    },
    "kernelspec": {
      "name": "python3",
      "display_name": "Python 3"
    },
    "language_info": {
      "name": "python"
    }
  },
  "cells": [
    {
      "cell_type": "markdown",
      "metadata": {
        "id": "view-in-github",
        "colab_type": "text"
      },
      "source": [
        "<a href=\"https://colab.research.google.com/github/aknip/Langchain-etc./blob/main/LLM_JSON_Extract.ipynb\" target=\"_parent\"><img src=\"https://colab.research.google.com/assets/colab-badge.svg\" alt=\"Open In Colab\"/></a>"
      ]
    },
    {
      "cell_type": "markdown",
      "source": [
        "# Overview:\n",
        "````\n",
        "1. Extraction with KOR and Langchain\n",
        "1.1. Extract and analyze KOR's prompt, feed it directly to LLM\n",
        "2. Data extraction by parsing (Langchain)\n",
        "3. Data extraction with Strict-JSON\n",
        "4. Data extraction by function calling\n",
        "4.1 Function calling with Langchain\n",
        "4.2 Function calling with litellm\n",
        "````"
      ],
      "metadata": {
        "id": "Dhpx2Cd9XHak"
      }
    },
    {
      "cell_type": "code",
      "execution_count": null,
      "metadata": {
        "id": "O3LJQ-n1m32g"
      },
      "outputs": [],
      "source": [
        "!pip install openai tiktoken litellm langchain kor"
      ]
    },
    {
      "cell_type": "code",
      "source": [
        "import json\n",
        "import os\n",
        "from getpass import getpass\n",
        "import psutil\n",
        "import requests\n",
        "import textwrap\n",
        "from langchain.chat_models import ChatOpenAI\n",
        "from langchain.globals import set_debug\n",
        "from langchain.globals import set_verbose\n",
        "IN_NOTEBOOK = any([\"jupyter-notebook\" in i for i in psutil.Process().parent().cmdline()])\n",
        "if IN_NOTEBOOK:\n",
        "  CREDS = json.loads(getpass(\"Secrets (JSON string): \"))\n",
        "  os.environ['CREDS'] = json.dumps(CREDS)\n",
        "  CREDS = json.loads(os.getenv('CREDS'))"
      ],
      "metadata": {
        "colab": {
          "base_uri": "https://localhost:8080/"
        },
        "id": "FJi0IOSGm9dK",
        "outputId": "ca172260-1772-42f9-8010-b99c4fe262ac"
      },
      "execution_count": 3,
      "outputs": [
        {
          "name": "stdout",
          "output_type": "stream",
          "text": [
            "Secrets (JSON string): ··········\n"
          ]
        }
      ]
    },
    {
      "cell_type": "code",
      "source": [
        "from litellm import completion\n",
        "import openai\n",
        "os.environ[\"OPENAI_API_KEY\"] = CREDS['OpenAI']['v1']['credential']\n",
        "os.environ[\"TOGETHERAI_API_KEY\"] = CREDS['together-ai']['key']['credential']"
      ],
      "metadata": {
        "id": "4yK9LKzwnEzG"
      },
      "execution_count": 4,
      "outputs": []
    },
    {
      "cell_type": "markdown",
      "source": [
        "# 1. Extraction with KOR and Langchain\n",
        "\n",
        "- KOR takes an schema (object) as target JSON\n",
        "- Kor comes with built-in support for creating a schema “object” with fields of different types. Currently, Kor’s native support is limited to Object, Text, Number, Bool, and Selection input types.\n",
        "- What sets Kor apart when creating schemas for LLMs is its ability to define a field’s purpose and context with textual descriptions and examples\n",
        "\n",
        "Code:\n",
        "\n",
        "1. Take input text and schema\n",
        "2. Convert to prompt including few-shot-examples. Ouput is Excel-CSV !\n",
        "3. Run prompt\n",
        "3. Take output of prompt and onvert CSV to JSON"
      ],
      "metadata": {
        "id": "Bgol0d8ong1C"
      }
    },
    {
      "cell_type": "code",
      "source": [
        "# Source: https://levelup.gitconnected.com/overcoming-challenges-of-llm-based-data-extraction-with-kor-1c0c6d4acd4a\n",
        "\n",
        "from kor.extraction import create_extraction_chain\n",
        "from kor.nodes import Object, Text, Selection\n",
        "\n",
        "text = \"Around the world, there are numerous captivating tourist destinations that offer unique attractions for \" \\\n",
        "       \"visitors. One such place is Paris, France, known as the 'City of Love.' The iconic Eiffel Tower stands tall, \" \\\n",
        "       \"providing panoramic views of the city, while the Louvre Museum houses world-renowned art masterpieces like \" \\\n",
        "       \"the Mona Lisa. Moving to the United States, New York City beckons with its dazzling Times Square, the Statue \" \\\n",
        "       \"of Liberty, and the vibrant Broadway shows. Meanwhile, in Asia, Kyoto, Japan, enchants with its ancient \" \\\n",
        "       \"temples, tranquil gardens, and traditional geisha culture. The Great Wall of China, a monumental feat of \" \\\n",
        "       \"engineering, winds its way across the vast Chinese landscape, offering breathtaking views and a glimpse into \" \\\n",
        "       \"the country's rich history. In South America, Rio de Janeiro, Brazil, captivates with its vibrant Carnival \" \\\n",
        "       \"celebrations, Copacabana Beach, and the iconic Christ the Redeemer statue atop Corcovado Mountain. Lastly, \" \\\n",
        "       \"Australia's Great Barrier Reef lures adventurers with its stunning coral reefs and diverse marine life, \" \\\n",
        "       \"while the Sydney Opera House showcases architectural brilliance. These destinations, among many others, \" \\\n",
        "       \"embody the beauty, culture, and history that make our world a fascinating place to explore.\"\n",
        "\n",
        "schema = Object(\n",
        "    id=\"destinations\",\n",
        "    description=\"Tourist destination information\",\n",
        "    examples=[\n",
        "        (\n",
        "            \"Ubud is famous for its unique Balinese temples and beautiful rice terraces.\",\n",
        "            {\"destination\": \"Ubud\", \"attractions\": \"rice terraces, Balinese temples\"}\n",
        "        ),\n",
        "        (\n",
        "            \"Tourists flock to Galle, Sri Lanka to enjoy a relaxing beach vacation.\",\n",
        "            {\"destination\": \"Galle\", \"country\": \"Sri Lanka\", \"attractions\": \"beaches\"}\n",
        "        )\n",
        "    ],\n",
        "    attributes=[\n",
        "        Text(\n",
        "            id=\"destination\",\n",
        "            description=\"The name of the tourist destination\",\n",
        "            examples=[\n",
        "                (\"Thailand's Phuket island is a favorite among tourists\", \"Phuket\")\n",
        "            ]\n",
        "        ),\n",
        "        Text(\n",
        "            id=\"country\",\n",
        "            description=\"The country the tourist destination is located in\",\n",
        "            examples=[\n",
        "                (\"Thailand's Phuket island is a favorite among tourists\", \"Thailand\")\n",
        "            ]\n",
        "        ),\n",
        "        Text(\n",
        "            id=\"attractions\",\n",
        "            description=\"A comma separated list of attractions in the destination\",\n",
        "            examples=[\n",
        "                (\"Phuket is popular for beautiful beaches and vibrant night life\", \"beautiful beaches, vibrant night life\")\n",
        "            ]\n",
        "        )\n",
        "    ],\n",
        "    many=True\n",
        ")\n",
        "\n",
        "llm = ChatOpenAI(\n",
        "    model_name=\"gpt-3.5-turbo\",\n",
        "    temperature=0,\n",
        "    max_tokens=2000,\n",
        ")\n",
        "\n",
        "set_debug(True)\n",
        "\n",
        "chain = create_extraction_chain(llm, schema)\n",
        "response = chain.run(text)"
      ],
      "metadata": {
        "colab": {
          "base_uri": "https://localhost:8080/"
        },
        "id": "eWHzvnaYniPP",
        "outputId": "ddfc25c3-cba3-4299-d49b-860146a0c569"
      },
      "execution_count": 4,
      "outputs": [
        {
          "output_type": "stream",
          "name": "stdout",
          "text": [
            "\u001b[32;1m\u001b[1;3m[chain/start]\u001b[0m \u001b[1m[1:chain:LLMChain] Entering Chain run with input:\n",
            "\u001b[0m{\n",
            "  \"text\": \"Around the world, there are numerous captivating tourist destinations that offer unique attractions for visitors. One such place is Paris, France, known as the 'City of Love.' The iconic Eiffel Tower stands tall, providing panoramic views of the city, while the Louvre Museum houses world-renowned art masterpieces like the Mona Lisa. Moving to the United States, New York City beckons with its dazzling Times Square, the Statue of Liberty, and the vibrant Broadway shows. Meanwhile, in Asia, Kyoto, Japan, enchants with its ancient temples, tranquil gardens, and traditional geisha culture. The Great Wall of China, a monumental feat of engineering, winds its way across the vast Chinese landscape, offering breathtaking views and a glimpse into the country's rich history. In South America, Rio de Janeiro, Brazil, captivates with its vibrant Carnival celebrations, Copacabana Beach, and the iconic Christ the Redeemer statue atop Corcovado Mountain. Lastly, Australia's Great Barrier Reef lures adventurers with its stunning coral reefs and diverse marine life, while the Sydney Opera House showcases architectural brilliance. These destinations, among many others, embody the beauty, culture, and history that make our world a fascinating place to explore.\"\n",
            "}\n",
            "\u001b[32;1m\u001b[1;3m[llm/start]\u001b[0m \u001b[1m[1:chain:LLMChain > 2:llm:ChatOpenAI] Entering LLM run with input:\n",
            "\u001b[0m{\n",
            "  \"prompts\": [\n",
            "    \"System: Your goal is to extract structured information from the user's input that matches the form described below. When extracting information please make sure it matches the type information exactly. Do not add any attributes that do not appear in the schema shown below.\\n\\n```TypeScript\\n\\ndestinations: Array<{ // Tourist destination information\\n destination: string // The name of the tourist destination\\n country: string // The country the tourist destination is located in\\n attractions: string // A comma separated list of attractions in the destination\\n}>\\n```\\n\\n\\nPlease output the extracted information in CSV format in Excel dialect. Please use a | as the delimiter. \\n Do NOT add any clarifying information. Output MUST follow the schema above. Do NOT add any additional columns that do not appear in the schema.\\n\\n\\nHuman: Ubud is famous for its unique Balinese temples and beautiful rice terraces.\\nAI: destination|country|attractions\\nUbud||rice terraces, Balinese temples\\n\\nHuman: Tourists flock to Galle, Sri Lanka to enjoy a relaxing beach vacation.\\nAI: destination|country|attractions\\nGalle|Sri Lanka|beaches\\n\\nHuman: Thailand's Phuket island is a favorite among tourists\\nAI: destination|country|attractions\\nPhuket||\\n\\nHuman: Thailand's Phuket island is a favorite among tourists\\nAI: destination|country|attractions\\n|Thailand|\\n\\nHuman: Phuket is popular for beautiful beaches and vibrant night life\\nAI: destination|country|attractions\\n||beautiful beaches, vibrant night life\\n\\nHuman: Around the world, there are numerous captivating tourist destinations that offer unique attractions for visitors. One such place is Paris, France, known as the 'City of Love.' The iconic Eiffel Tower stands tall, providing panoramic views of the city, while the Louvre Museum houses world-renowned art masterpieces like the Mona Lisa. Moving to the United States, New York City beckons with its dazzling Times Square, the Statue of Liberty, and the vibrant Broadway shows. Meanwhile, in Asia, Kyoto, Japan, enchants with its ancient temples, tranquil gardens, and traditional geisha culture. The Great Wall of China, a monumental feat of engineering, winds its way across the vast Chinese landscape, offering breathtaking views and a glimpse into the country's rich history. In South America, Rio de Janeiro, Brazil, captivates with its vibrant Carnival celebrations, Copacabana Beach, and the iconic Christ the Redeemer statue atop Corcovado Mountain. Lastly, Australia's Great Barrier Reef lures adventurers with its stunning coral reefs and diverse marine life, while the Sydney Opera House showcases architectural brilliance. These destinations, among many others, embody the beauty, culture, and history that make our world a fascinating place to explore.\"\n",
            "  ]\n",
            "}\n",
            "\u001b[36;1m\u001b[1;3m[llm/end]\u001b[0m \u001b[1m[1:chain:LLMChain > 2:llm:ChatOpenAI] [5.85s] Exiting LLM run with output:\n",
            "\u001b[0m{\n",
            "  \"generations\": [\n",
            "    [\n",
            "      {\n",
            "        \"text\": \"destination|country|attractions\\nParis|France|Eiffel Tower, Louvre Museum\\nNew York City|United States|Times Square, Statue of Liberty, Broadway shows\\nKyoto|Japan|ancient temples, tranquil gardens, traditional geisha culture\\nGreat Wall of China|China|monumental feat of engineering, breathtaking views, rich history\\nRio de Janeiro|Brazil|Carnival celebrations, Copacabana Beach, Christ the Redeemer statue\\nGreat Barrier Reef|Australia|stunning coral reefs, diverse marine life\\nSydney Opera House|Australia|architectural brilliance\",\n",
            "        \"generation_info\": {\n",
            "          \"finish_reason\": \"stop\",\n",
            "          \"logprobs\": null\n",
            "        },\n",
            "        \"type\": \"ChatGeneration\",\n",
            "        \"message\": {\n",
            "          \"lc\": 1,\n",
            "          \"type\": \"constructor\",\n",
            "          \"id\": [\n",
            "            \"langchain\",\n",
            "            \"schema\",\n",
            "            \"messages\",\n",
            "            \"AIMessage\"\n",
            "          ],\n",
            "          \"kwargs\": {\n",
            "            \"content\": \"destination|country|attractions\\nParis|France|Eiffel Tower, Louvre Museum\\nNew York City|United States|Times Square, Statue of Liberty, Broadway shows\\nKyoto|Japan|ancient temples, tranquil gardens, traditional geisha culture\\nGreat Wall of China|China|monumental feat of engineering, breathtaking views, rich history\\nRio de Janeiro|Brazil|Carnival celebrations, Copacabana Beach, Christ the Redeemer statue\\nGreat Barrier Reef|Australia|stunning coral reefs, diverse marine life\\nSydney Opera House|Australia|architectural brilliance\",\n",
            "            \"additional_kwargs\": {}\n",
            "          }\n",
            "        }\n",
            "      }\n",
            "    ]\n",
            "  ],\n",
            "  \"llm_output\": {\n",
            "    \"token_usage\": {\n",
            "      \"completion_tokens\": 123,\n",
            "      \"prompt_tokens\": 590,\n",
            "      \"total_tokens\": 713\n",
            "    },\n",
            "    \"model_name\": \"gpt-3.5-turbo\",\n",
            "    \"system_fingerprint\": null\n",
            "  },\n",
            "  \"run\": null\n",
            "}\n",
            "\u001b[36;1m\u001b[1;3m[chain/end]\u001b[0m \u001b[1m[1:chain:LLMChain] [5.88s] Exiting Chain run with output:\n",
            "\u001b[0m{\n",
            "  \"text\": {\n",
            "    \"data\": {\n",
            "      \"destinations\": [\n",
            "        {\n",
            "          \"destination\": \"Paris\",\n",
            "          \"country\": \"France\",\n",
            "          \"attractions\": \"Eiffel Tower, Louvre Museum\"\n",
            "        },\n",
            "        {\n",
            "          \"destination\": \"New York City\",\n",
            "          \"country\": \"United States\",\n",
            "          \"attractions\": \"Times Square, Statue of Liberty, Broadway shows\"\n",
            "        },\n",
            "        {\n",
            "          \"destination\": \"Kyoto\",\n",
            "          \"country\": \"Japan\",\n",
            "          \"attractions\": \"ancient temples, tranquil gardens, traditional geisha culture\"\n",
            "        },\n",
            "        {\n",
            "          \"destination\": \"Great Wall of China\",\n",
            "          \"country\": \"China\",\n",
            "          \"attractions\": \"monumental feat of engineering, breathtaking views, rich history\"\n",
            "        },\n",
            "        {\n",
            "          \"destination\": \"Rio de Janeiro\",\n",
            "          \"country\": \"Brazil\",\n",
            "          \"attractions\": \"Carnival celebrations, Copacabana Beach, Christ the Redeemer statue\"\n",
            "        },\n",
            "        {\n",
            "          \"destination\": \"Great Barrier Reef\",\n",
            "          \"country\": \"Australia\",\n",
            "          \"attractions\": \"stunning coral reefs, diverse marine life\"\n",
            "        },\n",
            "        {\n",
            "          \"destination\": \"Sydney Opera House\",\n",
            "          \"country\": \"Australia\",\n",
            "          \"attractions\": \"architectural brilliance\"\n",
            "        }\n",
            "      ]\n",
            "    },\n",
            "    \"raw\": \"destination|country|attractions\\nParis|France|Eiffel Tower, Louvre Museum\\nNew York City|United States|Times Square, Statue of Liberty, Broadway shows\\nKyoto|Japan|ancient temples, tranquil gardens, traditional geisha culture\\nGreat Wall of China|China|monumental feat of engineering, breathtaking views, rich history\\nRio de Janeiro|Brazil|Carnival celebrations, Copacabana Beach, Christ the Redeemer statue\\nGreat Barrier Reef|Australia|stunning coral reefs, diverse marine life\\nSydney Opera House|Australia|architectural brilliance\",\n",
            "    \"errors\": [],\n",
            "    \"validated_data\": {}\n",
            "  }\n",
            "}\n"
          ]
        }
      ]
    },
    {
      "cell_type": "code",
      "source": [
        "print(json.dumps(response, indent=4))"
      ],
      "metadata": {
        "colab": {
          "base_uri": "https://localhost:8080/"
        },
        "id": "xJ_uNxIEs4Gg",
        "outputId": "c5a53d21-bbd5-4be3-b20b-686ed261178b"
      },
      "execution_count": 5,
      "outputs": [
        {
          "output_type": "stream",
          "name": "stdout",
          "text": [
            "{\n",
            "    \"data\": {\n",
            "        \"destinations\": [\n",
            "            {\n",
            "                \"destination\": \"Paris\",\n",
            "                \"country\": \"France\",\n",
            "                \"attractions\": \"Eiffel Tower, Louvre Museum\"\n",
            "            },\n",
            "            {\n",
            "                \"destination\": \"New York City\",\n",
            "                \"country\": \"United States\",\n",
            "                \"attractions\": \"Times Square, Statue of Liberty, Broadway shows\"\n",
            "            },\n",
            "            {\n",
            "                \"destination\": \"Kyoto\",\n",
            "                \"country\": \"Japan\",\n",
            "                \"attractions\": \"ancient temples, tranquil gardens, traditional geisha culture\"\n",
            "            },\n",
            "            {\n",
            "                \"destination\": \"Great Wall of China\",\n",
            "                \"country\": \"China\",\n",
            "                \"attractions\": \"monumental feat of engineering, breathtaking views, rich history\"\n",
            "            },\n",
            "            {\n",
            "                \"destination\": \"Rio de Janeiro\",\n",
            "                \"country\": \"Brazil\",\n",
            "                \"attractions\": \"Carnival celebrations, Copacabana Beach, Christ the Redeemer statue\"\n",
            "            },\n",
            "            {\n",
            "                \"destination\": \"Great Barrier Reef\",\n",
            "                \"country\": \"Australia\",\n",
            "                \"attractions\": \"stunning coral reefs, diverse marine life\"\n",
            "            },\n",
            "            {\n",
            "                \"destination\": \"Sydney Opera House\",\n",
            "                \"country\": \"Australia\",\n",
            "                \"attractions\": \"architectural brilliance\"\n",
            "            }\n",
            "        ]\n",
            "    },\n",
            "    \"raw\": \"destination|country|attractions\\nParis|France|Eiffel Tower, Louvre Museum\\nNew York City|United States|Times Square, Statue of Liberty, Broadway shows\\nKyoto|Japan|ancient temples, tranquil gardens, traditional geisha culture\\nGreat Wall of China|China|monumental feat of engineering, breathtaking views, rich history\\nRio de Janeiro|Brazil|Carnival celebrations, Copacabana Beach, Christ the Redeemer statue\\nGreat Barrier Reef|Australia|stunning coral reefs, diverse marine life\\nSydney Opera House|Australia|architectural brilliance\",\n",
            "    \"errors\": [],\n",
            "    \"validated_data\": {}\n",
            "}\n"
          ]
        }
      ]
    },
    {
      "cell_type": "markdown",
      "source": [
        "The response object includes\n",
        "- \"raw\": The LLM-response as CSV, delimited by |\n",
        "- \"data\": The resonse as JSON (converted from the CSV)\n"
      ],
      "metadata": {
        "id": "5OLF2UXQs-Wx"
      }
    },
    {
      "cell_type": "markdown",
      "source": [
        "## 1.1. Extract and analyze KOR's prompt, feed it directly to LLM\n",
        "\n",
        "The generated prompt (see above) looks like this:\n",
        "\n",
        "````\n",
        "System: Your goal is to extract structured information from the user's input\n",
        "that matches the form described below. When extracting information please make\n",
        "sure it matches the type information exactly. Do not add any attributes that do\n",
        "not appear in the schema shown below.\n",
        "\n",
        "```TypeScript\n",
        "\n",
        "destinations: Array<{ // Tourist destination information\n",
        " destination: string // The name of the tourist destination\n",
        " country: string // The country the tourist destination is located in\n",
        " attractions: string // A comma separated list of attractions in the destination\n",
        "}>\n",
        "```\n",
        "\n",
        "Please output the extracted information in CSV format in Excel dialect. Please\n",
        "use a | as the delimiter.\n",
        "Do NOT add any clarifying information. Output MUST follow the schema above. Do\n",
        "NOT add any additional columns that do not appear in the schema.\n",
        "\n",
        "\n",
        "Human: Ubud is famous for its unique Balinese temples and beautiful rice\n",
        "terraces.\n",
        "AI: destination|country|attractions\n",
        "Ubud||rice terraces, Balinese temples\n",
        "\n",
        "Human: Tourists flock to Galle, Sri Lanka to enjoy a relaxing beach vacation.\n",
        "AI: destination|country|attractions\n",
        "Galle|Sri Lanka|beaches\n",
        "\n",
        "Human: Thailand's Phuket island is a favorite among tourists\n",
        "AI: destination|country|attractions\n",
        "Phuket||\n",
        "\n",
        "Human: Thailand's Phuket island is a favorite among tourists\n",
        "AI: destination|country|attractions\n",
        "|Thailand|\n",
        "\n",
        "Human: Phuket is popular for beautiful beaches and vibrant night life\n",
        "AI: destination|country|attractions\n",
        "||beautiful beaches, vibrant night life\n",
        "\n",
        "Human: Around the world, there are numerous captivating tourist destinations\n",
        "that offer unique attractions for visitors. One such place is Paris, France,\n",
        "known as the 'City of Love.' The iconic Eiffel Tower stands tall, providing\n",
        "panoramic views of the city, while the Louvre Museum houses world-renowned art\n",
        "masterpieces like the Mona Lisa. Moving to the United States, New York City\n",
        "beckons with its dazzling Times Square, the Statue of Liberty, and the vibrant\n",
        "Broadway shows. Meanwhile, in Asia, Kyoto, Japan, enchants with its ancient\n",
        "temples, tranquil gardens, and traditional geisha culture. The Great Wall of\n",
        "China, a monumental feat of engineering, winds its way across the vast Chinese\n",
        "landscape, offering breathtaking views and a glimpse into the country's rich\n",
        "history. In South America, Rio de Janeiro, Brazil, captivates with its vibrant\n",
        "Carnival celebrations, Copacabana Beach, and the iconic Christ the Redeemer\n",
        "statue atop Corcovado Mountain. Lastly, Australia's Great Barrier Reef lures\n",
        "adventurers with its stunning coral reefs and diverse marine life, while the\n",
        "Sydney Opera House showcases architectural brilliance. These destinations, among\n",
        "many others, embody the beauty, culture, and history that make our world a\n",
        "fascinating place to explore.\n",
        "````\n",
        "\n",
        "Let's go through it step by step:\n",
        "\n",
        "**First prompt part (static)**\n",
        "\n",
        "Standard beginning of prompt:\n",
        "````\n",
        "System: Your goal is to extract structured information from the user's input\n",
        "that matches the form described below. When extracting information please make\n",
        "sure it matches the type information exactly. Do not add any attributes that do\n",
        "not appear in the schema shown below.**\n",
        "````\n",
        "\n",
        "**Second prompt part (dynamic)**\n",
        "\n",
        "Based on the schema defintion a TypeScript object is added to the prompt:\n",
        "````\n",
        "```TypeScript\n",
        "\n",
        "destinations: Array<{ // Tourist destination information\n",
        " destination: string // The name of the tourist destination\n",
        " country: string // The country the tourist destination is located in\n",
        " attractions: string // A comma separated list of attractions in the destination\n",
        "}>\n",
        "````\n",
        "\n",
        "This is the corresponding schema defintion in the code. The examples are added later (see part four):\n",
        "````\n",
        "schema = Object(\n",
        "    id=\"destinations\",\n",
        "    description=\"Tourist destination information\",\n",
        "    attributes=[\n",
        "        Text(\n",
        "            id=\"destination\",\n",
        "            description=\"The name of the tourist destination\",\n",
        "            examples=[\n",
        "                (\"Thailand's Phuket island is a favorite among tourists\", \"Phuket\")\n",
        "            ]\n",
        "        ),\n",
        "        Text(\n",
        "            id=\"country\",\n",
        "            description=\"The country the tourist destination is located in\",\n",
        "            examples=[\n",
        "                (\"Thailand's Phuket island is a favorite among tourists\", \"Thailand\")\n",
        "            ]\n",
        "        ),\n",
        "        Text(\n",
        "            id=\"attractions\",\n",
        "            description=\"A comma separated list of attractions in the destination\",\n",
        "            examples=[\n",
        "                (\"Phuket is popular for beautiful beaches and vibrant night life\", \"beautiful beaches, vibrant night life\")\n",
        "            ]\n",
        "        )\n",
        "    ]\n",
        ")\n",
        "````\n",
        "\n",
        "**Third prompt part (static)**\n",
        "\n",
        "Instructions for formatting the output are added to the prompt:\n",
        "````\n",
        "Please output the extracted information in CSV format in Excel dialect. Please\n",
        "use a | as the delimiter.\n",
        "Do NOT add any clarifying information. Output MUST follow the schema above. Do\n",
        "NOT add any additional columns that do not appear in the schema.\n",
        "````\n",
        "\n",
        "**Fourth prompt part (dynamic)**\n",
        "\n",
        "Few-shot examples in \"Human:\" - \"AI:\" chat pattern:\n",
        "````\n",
        "Human: Ubud is famous for its unique Balinese temples and beautiful rice\n",
        "terraces.\n",
        "AI: destination|country|attractions\n",
        "Ubud||rice terraces, Balinese temples\n",
        "\n",
        "Human: Tourists flock to Galle, Sri Lanka to enjoy a relaxing beach vacation.\n",
        "AI: destination|country|attractions\n",
        "Galle|Sri Lanka|beaches\n",
        "\n",
        "Human: Thailand's Phuket island is a favorite among tourists\n",
        "AI: destination|country|attractions\n",
        "Phuket||\n",
        "\n",
        "Human: Thailand's Phuket island is a favorite among tourists\n",
        "AI: destination|country|attractions\n",
        "|Thailand|\n",
        "\n",
        "Human: Phuket is popular for beautiful beaches and vibrant night life\n",
        "AI: destination|country|attractions\n",
        "||beautiful beaches, vibrant night life\n",
        "````\n",
        "The examples are compiled from the object and attribute examples of the code:\n",
        "````\n",
        "examples=[\n",
        "  (\n",
        "      \"Ubud is famous for its unique Balinese temples and beautiful rice terraces.\",\n",
        "      {\"destination\": \"Ubud\", \"attractions\": \"rice terraces, Balinese temples\"}\n",
        "  ),\n",
        "  (\n",
        "      \"Tourists flock to Galle, Sri Lanka to enjoy a relaxing beach vacation.\",\n",
        "      {\"destination\": \"Galle\", \"country\": \"Sri Lanka\", \"attractions\": \"beaches\"}\n",
        "  )\n",
        "],\n",
        "...\n",
        "attributes=[\n",
        "  Text(\n",
        "      id=\"destination\",\n",
        "      description=\"The name of the tourist destination\",\n",
        "      examples=[\n",
        "          (\"Thailand's Phuket island is a favorite among tourists\", \"Phuket\")\n",
        "      ]\n",
        "  )\n",
        "...\n",
        "````\n",
        "**Fifth prompt part (dynmaic)**\n",
        "\n",
        "The input text\n",
        "````\n",
        "Human: Around the world, there are numerous captivating tourist destinations\n",
        "that offer unique attractions for visitors. One such place is Paris, France,\n",
        "known as the 'City of Love.' The iconic Eiffel Tower stands tall, providing\n",
        "panoramic views of the city, while the Louvre Museum houses world-renowned art\n",
        "masterpieces like the Mona Lisa. Moving to the United States, New York City\n",
        "beckons with its dazzling Times Square, the Statue of Liberty, and the vibrant\n",
        "Broadway shows. Meanwhile, in Asia, Kyoto, Japan, enchants with its ancient\n",
        "temples, tranquil gardens, and traditional geisha culture. The Great Wall of\n",
        "China, a monumental feat of engineering, winds its way across the vast Chinese\n",
        "landscape, offering breathtaking views and a glimpse into the country's rich\n",
        "history. In South America, Rio de Janeiro, Brazil, captivates with its vibrant\n",
        "Carnival celebrations, Copacabana Beach, and the iconic Christ the Redeemer\n",
        "statue atop Corcovado Mountain. Lastly, Australia's Great Barrier Reef lures\n",
        "adventurers with its stunning coral reefs and diverse marine life, while the\n",
        "Sydney Opera House showcases architectural brilliance. These destinations, among\n",
        "many others, embody the beauty, culture, and history that make our world a\n",
        "fascinating place to explore.\n",
        "\n",
        "````\n",
        "\n",
        "\n",
        "\n"
      ],
      "metadata": {
        "id": "KMClajYWq_OQ"
      }
    },
    {
      "cell_type": "markdown",
      "source": [
        "Let's take the prompt generated by KOR and feed it directly to an LLM via litellm:"
      ],
      "metadata": {
        "id": "4jcIioOH5K1T"
      }
    },
    {
      "cell_type": "code",
      "source": [
        "kor_prompt_text = \"System: Your goal is to extract structured information from the user's input that matches the form described below. When extracting information please make sure it matches the type information exactly. Do not add any attributes that do not appear in the schema shown below.\\n\\n```TypeScript\\n\\ndestinations: Array<{ // Tourist destination information\\n destination: string // The name of the tourist destination\\n country: string // The country the tourist destination is located in\\n attractions: string // A comma separated list of attractions in the destination\\n}>\\n```\\n\\n\\nPlease output the extracted information in CSV format in Excel dialect. Please use a | as the delimiter. \\n Do NOT add any clarifying information. Output MUST follow the schema above. Do NOT add any additional columns that do not appear in the schema.\\n\\n\\nHuman: Ubud is famous for its unique Balinese temples and beautiful rice terraces.\\nAI: destination|country|attractions\\nUbud||rice terraces, Balinese temples\\n\\nHuman: Tourists flock to Galle, Sri Lanka to enjoy a relaxing beach vacation.\\nAI: destination|country|attractions\\nGalle|Sri Lanka|beaches\\n\\nHuman: Thailand's Phuket island is a favorite among tourists\\nAI: destination|country|attractions\\nPhuket||\\n\\nHuman: Thailand's Phuket island is a favorite among tourists\\nAI: destination|country|attractions\\n|Thailand|\\n\\nHuman: Phuket is popular for beautiful beaches and vibrant night life\\nAI: destination|country|attractions\\n||beautiful beaches, vibrant night life\\n\\nHuman: Around the world, there are numerous captivating tourist destinations that offer unique attractions for visitors. One such place is Paris, France, known as the 'City of Love.' The iconic Eiffel Tower stands tall, providing panoramic views of the city, while the Louvre Museum houses world-renowned art masterpieces like the Mona Lisa. Moving to the United States, New York City beckons with its dazzling Times Square, the Statue of Liberty, and the vibrant Broadway shows. Meanwhile, in Asia, Kyoto, Japan, enchants with its ancient temples, tranquil gardens, and traditional geisha culture. The Great Wall of China, a monumental feat of engineering, winds its way across the vast Chinese landscape, offering breathtaking views and a glimpse into the country's rich history. In South America, Rio de Janeiro, Brazil, captivates with its vibrant Carnival celebrations, Copacabana Beach, and the iconic Christ the Redeemer statue atop Corcovado Mountain. Lastly, Australia's Great Barrier Reef lures adventurers with its stunning coral reefs and diverse marine life, while the Sydney Opera House showcases architectural brilliance. These destinations, among many others, embody the beauty, culture, and history that make our world a fascinating place to explore.\"\n",
        "#for x in kor_prompt_text.split('\\n'):\n",
        "#  print(textwrap.fill(x, 80))\n",
        "response = completion(\n",
        "  model=\"gpt-3.5-turbo\",\n",
        "  messages=[{ \"content\": kor_prompt_text,\"role\": \"user\"}]\n",
        ")\n",
        "print(response.choices[0].message.content)\n",
        "#print(response)"
      ],
      "metadata": {
        "colab": {
          "base_uri": "https://localhost:8080/"
        },
        "id": "zoIBqrKSrcz_",
        "outputId": "2eac0945-6340-4658-9acc-fc2dfa14e954"
      },
      "execution_count": 6,
      "outputs": [
        {
          "output_type": "stream",
          "name": "stdout",
          "text": [
            "AI: destination|country|attractions\n",
            "Paris|France|Eiffel Tower, Louvre Museum\n",
            "New York City|United States|Times Square, Statue of Liberty, Broadway shows\n",
            "Kyoto|Japan|ancient temples, tranquil gardens, traditional geisha culture\n",
            "Great Wall of China|China|\n",
            "Rio de Janeiro|Brazil|Carnival celebrations, Copacabana Beach, Christ the Redeemer statue\n",
            "Great Barrier Reef|Australia|stunning coral reefs, diverse marine life\n",
            "Sydney Opera House|Australia|architectural brilliance\n"
          ]
        }
      ]
    },
    {
      "cell_type": "markdown",
      "source": [
        "And convert the response CSV to JSON using pandas:"
      ],
      "metadata": {
        "id": "4pfFwVBJDSBU"
      }
    },
    {
      "cell_type": "code",
      "source": [
        "import pandas as pd\n",
        "import json\n",
        "from io import StringIO\n",
        "\n",
        "response_IO = StringIO(response.choices[0].message.content[4:]) # strip away first 4 chars \"AI: \"\n",
        "response_df = pd.read_csv(response_IO, sep=\"|\")\n",
        "response_JSON = json.loads(response_df.to_json(orient='table',index=False))['data']\n",
        "print(json.dumps(response_JSON, indent=4))"
      ],
      "metadata": {
        "colab": {
          "base_uri": "https://localhost:8080/"
        },
        "id": "JGAxvKEnANgN",
        "outputId": "5b0ba9ef-dd33-4fba-9eef-12baa4762bf7"
      },
      "execution_count": 7,
      "outputs": [
        {
          "output_type": "stream",
          "name": "stdout",
          "text": [
            "[\n",
            "    {\n",
            "        \"destination\": \"Paris\",\n",
            "        \"country\": \"France\",\n",
            "        \"attractions\": \"Eiffel Tower, Louvre Museum\"\n",
            "    },\n",
            "    {\n",
            "        \"destination\": \"New York City\",\n",
            "        \"country\": \"United States\",\n",
            "        \"attractions\": \"Times Square, Statue of Liberty, Broadway shows\"\n",
            "    },\n",
            "    {\n",
            "        \"destination\": \"Kyoto\",\n",
            "        \"country\": \"Japan\",\n",
            "        \"attractions\": \"ancient temples, tranquil gardens, traditional geisha culture\"\n",
            "    },\n",
            "    {\n",
            "        \"destination\": \"Great Wall of China\",\n",
            "        \"country\": \"China\",\n",
            "        \"attractions\": null\n",
            "    },\n",
            "    {\n",
            "        \"destination\": \"Rio de Janeiro\",\n",
            "        \"country\": \"Brazil\",\n",
            "        \"attractions\": \"Carnival celebrations, Copacabana Beach, Christ the Redeemer statue\"\n",
            "    },\n",
            "    {\n",
            "        \"destination\": \"Great Barrier Reef\",\n",
            "        \"country\": \"Australia\",\n",
            "        \"attractions\": \"stunning coral reefs, diverse marine life\"\n",
            "    },\n",
            "    {\n",
            "        \"destination\": \"Sydney Opera House\",\n",
            "        \"country\": \"Australia\",\n",
            "        \"attractions\": \"architectural brilliance\"\n",
            "    }\n",
            "]\n"
          ]
        }
      ]
    },
    {
      "cell_type": "markdown",
      "source": [
        "# 2. Data extraction by parsing (Langchain)\n",
        "\n",
        "see https://python.langchain.com/docs/use_cases/extraction#option-2-parsing"
      ],
      "metadata": {
        "id": "egi1RBkuiVgG"
      }
    },
    {
      "cell_type": "code",
      "source": [
        "from typing import Optional, Sequence\n",
        "\n",
        "from langchain.llms import OpenAI\n",
        "from langchain.output_parsers import PydanticOutputParser\n",
        "from langchain.prompts import (\n",
        "    PromptTemplate,\n",
        ")\n",
        "from pydantic import BaseModel, Field, validator\n",
        "\n",
        "class Person(BaseModel):\n",
        "    person_name: str\n",
        "    person_height: int\n",
        "    person_hair_color: str\n",
        "    dog_breed: Optional[str]\n",
        "    dog_name: Optional[str]\n",
        "\n",
        "class People(BaseModel):\n",
        "    \"\"\"Identifying information about all people in a text.\"\"\"\n",
        "    people: Sequence[Person]\n",
        "\n",
        "# Run\n",
        "query = \"\"\"Alex is 5 feet tall. Claudia is 1 feet taller Alex and jumps higher than him. Claudia is a brunette and Alex is blonde.\"\"\"\n",
        "\n",
        "# Set up a parser + inject instructions into the prompt template.\n",
        "parser = PydanticOutputParser(pydantic_object=People)\n",
        "\n",
        "# Prompt\n",
        "prompt = PromptTemplate(\n",
        "    template=\"Answer the user query.\\n{format_instructions}\\n{query}\\n\",\n",
        "    input_variables=[\"query\"],\n",
        "    partial_variables={\"format_instructions\": parser.get_format_instructions()},\n",
        ")\n",
        "\n",
        "set_debug(True)\n",
        "\n",
        "# Run\n",
        "_input = prompt.format_prompt(query=query)\n",
        "model = OpenAI(temperature=0)\n",
        "output = model(_input.to_string())\n",
        "output_json = json.loads(output)\n",
        "#output_obj = parser.parse(output)\n"
      ],
      "metadata": {
        "colab": {
          "base_uri": "https://localhost:8080/"
        },
        "id": "uYHXPtaDicRY",
        "outputId": "4ddffeec-f93f-4730-f4b3-9d23d190e561"
      },
      "execution_count": 57,
      "outputs": [
        {
          "output_type": "stream",
          "name": "stdout",
          "text": [
            "\u001b[32;1m\u001b[1;3m[llm/start]\u001b[0m \u001b[1m[1:llm:OpenAI] Entering LLM run with input:\n",
            "\u001b[0m{\n",
            "  \"prompts\": [\n",
            "    \"Answer the user query.\\nThe output should be formatted as a JSON instance that conforms to the JSON schema below.\\n\\nAs an example, for the schema {\\\"properties\\\": {\\\"foo\\\": {\\\"title\\\": \\\"Foo\\\", \\\"description\\\": \\\"a list of strings\\\", \\\"type\\\": \\\"array\\\", \\\"items\\\": {\\\"type\\\": \\\"string\\\"}}}, \\\"required\\\": [\\\"foo\\\"]}\\nthe object {\\\"foo\\\": [\\\"bar\\\", \\\"baz\\\"]} is a well-formatted instance of the schema. The object {\\\"properties\\\": {\\\"foo\\\": [\\\"bar\\\", \\\"baz\\\"]}} is not well-formatted.\\n\\nHere is the output schema:\\n```\\n{\\\"description\\\": \\\"Identifying information about all people in a text.\\\", \\\"properties\\\": {\\\"people\\\": {\\\"title\\\": \\\"People\\\", \\\"type\\\": \\\"array\\\", \\\"items\\\": {\\\"$ref\\\": \\\"#/definitions/Person\\\"}}}, \\\"required\\\": [\\\"people\\\"], \\\"definitions\\\": {\\\"Person\\\": {\\\"title\\\": \\\"Person\\\", \\\"type\\\": \\\"object\\\", \\\"properties\\\": {\\\"person_name\\\": {\\\"title\\\": \\\"Person Name\\\", \\\"type\\\": \\\"string\\\"}, \\\"person_height\\\": {\\\"title\\\": \\\"Person Height\\\", \\\"type\\\": \\\"integer\\\"}, \\\"person_hair_color\\\": {\\\"title\\\": \\\"Person Hair Color\\\", \\\"type\\\": \\\"string\\\"}, \\\"dog_breed\\\": {\\\"title\\\": \\\"Dog Breed\\\", \\\"type\\\": \\\"string\\\"}, \\\"dog_name\\\": {\\\"title\\\": \\\"Dog Name\\\", \\\"type\\\": \\\"string\\\"}}, \\\"required\\\": [\\\"person_name\\\", \\\"person_height\\\", \\\"person_hair_color\\\"]}}}\\n```\\nAlex is 5 feet tall. Claudia is 1 feet taller Alex and jumps higher than him. Claudia is a brunette and Alex is blonde.\"\n",
            "  ]\n",
            "}\n",
            "\u001b[36;1m\u001b[1;3m[llm/end]\u001b[0m \u001b[1m[1:llm:OpenAI] [1.18s] Exiting LLM run with output:\n",
            "\u001b[0m{\n",
            "  \"generations\": [\n",
            "    [\n",
            "      {\n",
            "        \"text\": \"\\n{\\n  \\\"people\\\": [\\n    {\\n      \\\"person_name\\\": \\\"Alex\\\",\\n      \\\"person_height\\\": 5,\\n      \\\"person_hair_color\\\": \\\"blonde\\\"\\n    },\\n    {\\n      \\\"person_name\\\": \\\"Claudia\\\",\\n      \\\"person_height\\\": 6,\\n      \\\"person_hair_color\\\": \\\"brunette\\\"\\n    }\\n  ]\\n}\",\n",
            "        \"generation_info\": {\n",
            "          \"finish_reason\": \"stop\",\n",
            "          \"logprobs\": null\n",
            "        },\n",
            "        \"type\": \"Generation\"\n",
            "      }\n",
            "    ]\n",
            "  ],\n",
            "  \"llm_output\": {\n",
            "    \"token_usage\": {\n",
            "      \"completion_tokens\": 75,\n",
            "      \"total_tokens\": 410,\n",
            "      \"prompt_tokens\": 335\n",
            "    },\n",
            "    \"model_name\": \"gpt-3.5-turbo-instruct\"\n",
            "  },\n",
            "  \"run\": null\n",
            "}\n"
          ]
        }
      ]
    },
    {
      "cell_type": "code",
      "source": [
        "print(json.dumps(output_json, indent=2))"
      ],
      "metadata": {
        "colab": {
          "base_uri": "https://localhost:8080/"
        },
        "id": "jYzs2hH3i2Wy",
        "outputId": "104842a7-0068-41fc-b76f-0b0e26dfc5f7"
      },
      "execution_count": 58,
      "outputs": [
        {
          "output_type": "stream",
          "name": "stdout",
          "text": [
            "{\n",
            "  \"people\": [\n",
            "    {\n",
            "      \"person_name\": \"Alex\",\n",
            "      \"person_height\": 5,\n",
            "      \"person_hair_color\": \"blonde\"\n",
            "    },\n",
            "    {\n",
            "      \"person_name\": \"Claudia\",\n",
            "      \"person_height\": 6,\n",
            "      \"person_hair_color\": \"brunette\"\n",
            "    }\n",
            "  ]\n",
            "}\n"
          ]
        }
      ]
    },
    {
      "cell_type": "code",
      "source": [
        "for x in _input.to_string().split('\\n'):\n",
        "  print(textwrap.fill(x, 80))"
      ],
      "metadata": {
        "colab": {
          "base_uri": "https://localhost:8080/"
        },
        "id": "Lp4hHRPElJjj",
        "outputId": "b79e28ad-e17c-4a5a-f5a2-a9110d19458a"
      },
      "execution_count": 59,
      "outputs": [
        {
          "output_type": "stream",
          "name": "stdout",
          "text": [
            "Answer the user query.\n",
            "The output should be formatted as a JSON instance that conforms to the JSON\n",
            "schema below.\n",
            "\n",
            "As an example, for the schema {\"properties\": {\"foo\": {\"title\": \"Foo\",\n",
            "\"description\": \"a list of strings\", \"type\": \"array\", \"items\": {\"type\":\n",
            "\"string\"}}}, \"required\": [\"foo\"]}\n",
            "the object {\"foo\": [\"bar\", \"baz\"]} is a well-formatted instance of the schema.\n",
            "The object {\"properties\": {\"foo\": [\"bar\", \"baz\"]}} is not well-formatted.\n",
            "\n",
            "Here is the output schema:\n",
            "```\n",
            "{\"description\": \"Identifying information about all people in a text.\",\n",
            "\"properties\": {\"people\": {\"title\": \"People\", \"type\": \"array\", \"items\": {\"$ref\":\n",
            "\"#/definitions/Person\"}}}, \"required\": [\"people\"], \"definitions\": {\"Person\":\n",
            "{\"title\": \"Person\", \"type\": \"object\", \"properties\": {\"person_name\": {\"title\":\n",
            "\"Person Name\", \"type\": \"string\"}, \"person_height\": {\"title\": \"Person Height\",\n",
            "\"type\": \"integer\"}, \"person_hair_color\": {\"title\": \"Person Hair Color\", \"type\":\n",
            "\"string\"}, \"dog_breed\": {\"title\": \"Dog Breed\", \"type\": \"string\"}, \"dog_name\":\n",
            "{\"title\": \"Dog Name\", \"type\": \"string\"}}, \"required\": [\"person_name\",\n",
            "\"person_height\", \"person_hair_color\"]}}}\n",
            "```\n",
            "Alex is 5 feet tall. Claudia is 1 feet taller Alex and jumps higher than him.\n",
            "Claudia is a brunette and Alex is blonde.\n",
            "\n"
          ]
        }
      ]
    },
    {
      "cell_type": "markdown",
      "source": [
        "## Analyzing the prompt\n",
        "\n",
        "The prompt is generated based on the two Pydantic classes.\n",
        "\n",
        "**First prompt part (static)**\n",
        "\n",
        "````\n",
        "Answer the user query.\n",
        "The output should be formatted as a JSON instance that conforms to the JSON\n",
        "schema below.\n",
        "\n",
        "As an example, for the schema\n",
        "{\n",
        "  \"properties\": {\n",
        "    \"foo\": {\n",
        "      \"title\": \"Foo\",\n",
        "      \"description\": \"a list of strings\",\n",
        "      \"type\": \"array\",\n",
        "      \"items\": {\n",
        "        \"type\": \"string\"\n",
        "      }\n",
        "    }\n",
        "  },\n",
        "  \"required\": [\n",
        "    \"foo\"\n",
        "  ]\n",
        "}\n",
        "the object {\"foo\": [\"bar\", \"baz\"]} is a well-formatted instance of the schema.\n",
        "The object {\"properties\": {\"foo\": [\"bar\", \"baz\"]}} is not well-formatted.\n",
        "````\n",
        "\n",
        "**Second prompt part (dynamic)**\n",
        "\n",
        "````\n",
        "Here is the output schema:\n",
        "```\n",
        "{\n",
        "  \"description\": \"Identifying information about all people in a text.\",\n",
        "  \"properties\": {\n",
        "    \"people\": {\n",
        "      \"title\": \"People\",\n",
        "      \"type\": \"array\",\n",
        "      \"items\": {\n",
        "        \"$ref\": \"#/definitions/Person\"\n",
        "      }\n",
        "    }\n",
        "  },\n",
        "  \"required\": [\n",
        "    \"people\"\n",
        "  ],\n",
        "  \"definitions\": {\n",
        "    \"Person\": {\n",
        "      \"title\": \"Person\",\n",
        "      \"type\": \"object\",\n",
        "      \"properties\": {\n",
        "        \"person_name\": {\n",
        "          \"title\": \"Person Name\",\n",
        "          \"type\": \"string\"\n",
        "        },\n",
        "        \"person_height\": {\n",
        "          \"title\": \"Person Height\",\n",
        "          \"type\": \"integer\"\n",
        "        },\n",
        "        \"person_hair_color\": {\n",
        "          \"title\": \"Person Hair Color\",\n",
        "          \"type\": \"string\"\n",
        "        },\n",
        "        \"dog_breed\": {\n",
        "          \"title\": \"Dog Breed\",\n",
        "          \"type\": \"string\"\n",
        "        },\n",
        "        \"dog_name\": {\n",
        "          \"title\": \"Dog Name\",\n",
        "          \"type\": \"string\"\n",
        "        }\n",
        "      },\n",
        "      \"required\": [\n",
        "        \"person_name\",\n",
        "        \"person_height\",\n",
        "        \"person_hair_color\"\n",
        "      ]\n",
        "    }\n",
        "  }\n",
        "}\n",
        "```\n",
        "Alex is 5 feet tall. Claudia is 1 feet taller Alex and jumps higher than him.\n",
        "Claudia is a brunette and Alex is blonde.\n",
        "````\n",
        "\n",
        "This part of the prompt is derived fromt the two Pydantic classes:\n",
        "\n",
        "````\n",
        "class Person(BaseModel):\n",
        "    person_name: str\n",
        "    person_height: int\n",
        "    person_hair_color: str\n",
        "    dog_breed: Optional[str]\n",
        "    dog_name: Optional[str]\n",
        "\n",
        "class People(BaseModel):\n",
        "    \"\"\"Identifying information about all people in a text.\"\"\"\n",
        "    people: Sequence[Person]\n",
        "````"
      ],
      "metadata": {
        "id": "75x17eNOllQr"
      }
    },
    {
      "cell_type": "markdown",
      "source": [
        "# 3. Data extraction with Strict-JSON\n",
        "\n",
        "- supports elements with lots of ' or \" or { or } or \\ or \\n, eg. code\n",
        "- modified for litellm !\n"
      ],
      "metadata": {
        "id": "YQ8wVR359fJN"
      }
    },
    {
      "cell_type": "code",
      "source": [
        "# source: https://github.com/tanchongmin/strictjson\n",
        "# Notebook demo: https://github.com/tanchongmin/strictjson/blob/main/Strict_Text_(Strict_JSON_v2).ipynb\n",
        "\n",
        "import os\n",
        "import openai\n",
        "import json\n",
        "import re\n",
        "from openai import OpenAI\n",
        "\n",
        "def strict_text(system_prompt, user_prompt, output_format, delimiter = '###', model = 'gpt-3.5-turbo', temperature = 0, num_tries = 3, verbose = False):\n",
        "    ''' Ensures that OpenAI will always adhere to the desired output json format.\n",
        "    Uses rule-based iterative feedback to ask GPT to self-correct.\n",
        "    Keeps trying up to num_tries it it does not. Returns empty json if unable to after num_tries iterations.'''\n",
        "\n",
        "    # start off with no error message\n",
        "    error_msg = ''\n",
        "\n",
        "    for i in range(num_tries):\n",
        "\n",
        "        # make the output format keys with a unique identifier\n",
        "        new_output_format = {}\n",
        "        for key in output_format.keys():\n",
        "            new_output_format[f'{delimiter}{key}{delimiter}'] = output_format[key]\n",
        "        output_format_prompt = f'''\\nYou are to output the following in json format: {new_output_format}\n",
        "You must use \"{delimiter}{{key}}{delimiter}\" to enclose the each {{key}}.'''\n",
        "\n",
        "        # Use litellm to get a response\n",
        "\n",
        "        response = completion(\n",
        "          temperature = temperature,\n",
        "          model=model,\n",
        "          messages=[\n",
        "            {\"role\": \"system\", \"content\": system_prompt + output_format_prompt + error_msg},\n",
        "            {\"role\": \"user\", \"content\": str(user_prompt)}\n",
        "          ]\n",
        "        )\n",
        "\n",
        "\n",
        "        res = response['choices'][0]['message']['content']\n",
        "\n",
        "        if verbose:\n",
        "            print('System prompt:', system_prompt + output_format_prompt + error_msg)\n",
        "            print('\\nUser prompt:', str(user_prompt))\n",
        "            print('\\nGPT response:', res)\n",
        "\n",
        "        # try-catch block to ensure output format is adhered to\n",
        "        try:\n",
        "            # check key appears for each element in the output\n",
        "            for key in new_output_format.keys():\n",
        "                # if output field missing, raise an error\n",
        "                if key not in res: raise Exception(f\"{key} not in json output\")\n",
        "\n",
        "            # if all is good, we then extract out the fields\n",
        "            # Use regular expressions to extract keys and values\n",
        "            pattern = fr\",*\\s*['|\\\"]{delimiter}([^#]*){delimiter}['|\\\"]: \"\n",
        "\n",
        "            matches = re.split(pattern, res[1:-1])\n",
        "\n",
        "            # remove null matches\n",
        "            my_matches = [match for match in matches if match !='']\n",
        "\n",
        "            # remove the ' or \" from the value matches\n",
        "            curated_matches = [match[1:-1] if match[0] in '\\'\"' else match for match in my_matches]\n",
        "\n",
        "            # create a dictionary\n",
        "            end_dict = {}\n",
        "            for i in range(0, len(curated_matches), 2):\n",
        "                end_dict[curated_matches[i]] = curated_matches[i+1]\n",
        "\n",
        "            return end_dict\n",
        "\n",
        "        except Exception as e:\n",
        "            error_msg = f\"\\n\\nResult: {res}\\n\\nError message: {str(e)}\\nYou must use \\\"{delimiter}{{key}}{delimiter}\\\" to enclose the each {{key}}.\"\n",
        "            print(\"An exception occurred:\", str(e))\n",
        "            print(\"Current invalid json format:\", res)\n",
        "\n",
        "    return {}"
      ],
      "metadata": {
        "id": "wCGAWqpx9usB"
      },
      "execution_count": 5,
      "outputs": []
    },
    {
      "cell_type": "code",
      "source": [
        "res = strict_text(system_prompt = 'You are a data extractor.',\n",
        "                    user_prompt = 'Extract the data of all persons: Alex is 5 feet tall. Claudia is 1 feet taller Alex and jumps higher than him. Claudia is a brunette and Alex is blonde.',\n",
        "                    output_format = {\"person_name\": \"Name of person\",\n",
        "                                      \"person_height\": \"height of person\",\n",
        "                                      \"person_hair_color\": \"hair color of person\"})\n",
        "\n",
        "print(json.dumps(res, indent=2))"
      ],
      "metadata": {
        "colab": {
          "base_uri": "https://localhost:8080/"
        },
        "id": "UBxU0OcdC153",
        "outputId": "58c9d587-46ba-43a4-ac9b-ae91696c37af"
      },
      "execution_count": 10,
      "outputs": [
        {
          "output_type": "stream",
          "name": "stdout",
          "text": [
            "{\n",
            "  \"person_name\": \"Claudia\",\n",
            "  \"person_height\": \"6 feet\",\n",
            "  \"person_hair_color\": \"brunette\\\"\"\n",
            "}\n"
          ]
        }
      ]
    },
    {
      "cell_type": "code",
      "source": [
        "res = strict_text(system_prompt = 'You are a classifier',\n",
        "                    user_prompt = 'It is a beautiful day',\n",
        "                    output_format = {\"Sentiment\": \"Type of Sentiment\",\n",
        "                                    \"Tense\": \"Type of Tense\"})\n",
        "print(json.dumps(res, indent=2))"
      ],
      "metadata": {
        "colab": {
          "base_uri": "https://localhost:8080/"
        },
        "id": "9JI7B0ZO-Y65",
        "outputId": "6c6fa8fb-94c0-4e0a-e998-98239b7ac18b"
      },
      "execution_count": 8,
      "outputs": [
        {
          "output_type": "stream",
          "name": "stdout",
          "text": [
            "{\n",
            "  \"Sentiment\": \"Positive\",\n",
            "  \"Tense\": \"Present\"\n",
            "}\n"
          ]
        }
      ]
    },
    {
      "cell_type": "code",
      "source": [
        "res = strict_text(system_prompt = 'You are a code generator, generating code to fulfil a task',\n",
        "                    user_prompt = 'Sum all elements in a given array p',\n",
        "                    output_format = {\"Elaboration\": \"How you would do it\",\n",
        "                                     \"C\": \"Code in C\",\n",
        "                                    \"Python\": \"Code in Python\"})\n",
        "\n",
        "print(json.dumps(res, indent=2))"
      ],
      "metadata": {
        "colab": {
          "base_uri": "https://localhost:8080/"
        },
        "id": "Z0Vz4d_eB-1t",
        "outputId": "6842ade6-11ee-4624-aa69-7651acda8c0a"
      },
      "execution_count": 9,
      "outputs": [
        {
          "output_type": "stream",
          "name": "stdout",
          "text": [
            "{\n",
            "  \"Elaboration\": \"To sum all elements in a given array, you can iterate through each element of the array and keep adding them to a running total.\",\n",
            "  \"C\": \"int sum = 0;\\\\nfor (int i = 0; i < sizeof(p) / sizeof(p[0]); i++) {\\\\n    sum += p[i];\\\\n}\",\n",
            "  \"Python\": \"sum = 0\\\\nfor num in p:\\\\n    sum += num\\\\n\"\n",
            "}\n"
          ]
        }
      ]
    },
    {
      "cell_type": "markdown",
      "source": [
        "# 4. Data extraction by function calling"
      ],
      "metadata": {
        "id": "mT8kTj2zF_Nx"
      }
    },
    {
      "cell_type": "markdown",
      "source": [
        "## 4.1 Function calling with Langchain\n",
        "\n",
        "Langchain's \"create_extraction_chain\" uses Chat GPT's function calling under the hood.\n",
        "\n",
        "See https://python.langchain.com/docs/use_cases/extraction#looking-under-the-hood"
      ],
      "metadata": {
        "id": "7Y_chvWQEJQh"
      }
    },
    {
      "cell_type": "code",
      "source": [
        "from langchain.chains import create_extraction_chain\n",
        "from langchain.chat_models import ChatOpenAI\n",
        "\n",
        "# Schema (this is in fact part of a \"functions\" object used for the LLM - compart to litellm !)\n",
        "# Important: Allthough the schema is not explicitely defined as array, it will be converted by Langchain to a function parameter of type 'array'\n",
        "schema = {\n",
        "    \"properties\": {\n",
        "        \"name\": {\"type\": \"string\", \"description\": \"name of person\"},\n",
        "        \"height\": {\"type\": \"integer\", \"description\": \"the height of the person\"},\n",
        "        \"hair_color\": {\"type\": \"string\", \"description\": \"the color of the hair of the person\"},\n",
        "    },\n",
        "    \"required\": [\"name\", \"height\"],\n",
        "}\n",
        "\n",
        "# Input\n",
        "inp = \"\"\"Alex is 5 feet tall. Claudia is 1 feet taller Alex and jumps higher than him. Claudia is a brunette and Alex is blonde.\"\"\"\n",
        "\n",
        "set_debug(True)\n",
        "\n",
        "# Run chain\n",
        "llm = ChatOpenAI(temperature=0, model=\"gpt-3.5-turbo\")\n",
        "chain = create_extraction_chain(schema, llm)\n",
        "response = chain.run(inp)\n"
      ],
      "metadata": {
        "colab": {
          "base_uri": "https://localhost:8080/"
        },
        "id": "qTJU_vhDELR1",
        "outputId": "b9440ed4-d666-4558-c50a-6b05cd5d28c0"
      },
      "execution_count": 37,
      "outputs": [
        {
          "output_type": "stream",
          "name": "stdout",
          "text": [
            "\u001b[32;1m\u001b[1;3m[chain/start]\u001b[0m \u001b[1m[1:chain:LLMChain] Entering Chain run with input:\n",
            "\u001b[0m{\n",
            "  \"input\": \"Alex is 5 feet tall. Claudia is 1 feet taller Alex and jumps higher than him. Claudia is a brunette and Alex is blonde.\"\n",
            "}\n",
            "\u001b[32;1m\u001b[1;3m[llm/start]\u001b[0m \u001b[1m[1:chain:LLMChain > 2:llm:ChatOpenAI] Entering LLM run with input:\n",
            "\u001b[0m{\n",
            "  \"prompts\": [\n",
            "    \"Human: Extract and save the relevant entities mentioned in the following passage together with their properties.\\n\\nOnly extract the properties mentioned in the 'information_extraction' function.\\n\\nIf a property is not present and is not required in the function parameters, do not include it in the output.\\n\\nPassage:\\nAlex is 5 feet tall. Claudia is 1 feet taller Alex and jumps higher than him. Claudia is a brunette and Alex is blonde.\"\n",
            "  ]\n",
            "}\n",
            "\u001b[36;1m\u001b[1;3m[llm/end]\u001b[0m \u001b[1m[1:chain:LLMChain > 2:llm:ChatOpenAI] [3.11s] Exiting LLM run with output:\n",
            "\u001b[0m{\n",
            "  \"generations\": [\n",
            "    [\n",
            "      {\n",
            "        \"text\": \"\",\n",
            "        \"generation_info\": {\n",
            "          \"finish_reason\": \"stop\",\n",
            "          \"logprobs\": null\n",
            "        },\n",
            "        \"type\": \"ChatGeneration\",\n",
            "        \"message\": {\n",
            "          \"lc\": 1,\n",
            "          \"type\": \"constructor\",\n",
            "          \"id\": [\n",
            "            \"langchain\",\n",
            "            \"schema\",\n",
            "            \"messages\",\n",
            "            \"AIMessage\"\n",
            "          ],\n",
            "          \"kwargs\": {\n",
            "            \"content\": \"\",\n",
            "            \"additional_kwargs\": {\n",
            "              \"function_call\": {\n",
            "                \"arguments\": \"{\\n  \\\"info\\\": [\\n    {\\n      \\\"name\\\": \\\"Alex\\\",\\n      \\\"height\\\": 5,\\n      \\\"hair_color\\\": \\\"blonde\\\"\\n    },\\n    {\\n      \\\"name\\\": \\\"Claudia\\\",\\n      \\\"height\\\": 6,\\n      \\\"hair_color\\\": \\\"brunette\\\"\\n    }\\n  ]\\n}\",\n",
            "                \"name\": \"information_extraction\"\n",
            "              }\n",
            "            }\n",
            "          }\n",
            "        }\n",
            "      }\n",
            "    ]\n",
            "  ],\n",
            "  \"llm_output\": {\n",
            "    \"token_usage\": {\n",
            "      \"completion_tokens\": 66,\n",
            "      \"prompt_tokens\": 156,\n",
            "      \"total_tokens\": 222\n",
            "    },\n",
            "    \"model_name\": \"gpt-3.5-turbo\",\n",
            "    \"system_fingerprint\": null\n",
            "  },\n",
            "  \"run\": null\n",
            "}\n",
            "\u001b[36;1m\u001b[1;3m[chain/end]\u001b[0m \u001b[1m[1:chain:LLMChain] [3.11s] Exiting Chain run with output:\n",
            "\u001b[0m{\n",
            "  \"text\": [\n",
            "    {\n",
            "      \"name\": \"Alex\",\n",
            "      \"height\": 5,\n",
            "      \"hair_color\": \"blonde\"\n",
            "    },\n",
            "    {\n",
            "      \"name\": \"Claudia\",\n",
            "      \"height\": 6,\n",
            "      \"hair_color\": \"brunette\"\n",
            "    }\n",
            "  ]\n",
            "}\n"
          ]
        }
      ]
    },
    {
      "cell_type": "code",
      "source": [
        "print(json.dumps(response, indent=4))"
      ],
      "metadata": {
        "colab": {
          "base_uri": "https://localhost:8080/"
        },
        "id": "97No7EUhHh2E",
        "outputId": "cc0efcef-e2ba-44bb-f6df-2d947f540773"
      },
      "execution_count": 31,
      "outputs": [
        {
          "output_type": "stream",
          "name": "stdout",
          "text": [
            "[\n",
            "    {\n",
            "        \"name\": \"Alex\",\n",
            "        \"height\": 5,\n",
            "        \"hair_color\": \"blonde\"\n",
            "    },\n",
            "    {\n",
            "        \"name\": \"Claudia\",\n",
            "        \"height\": 6,\n",
            "        \"hair_color\": \"brunette\"\n",
            "    }\n",
            "]\n"
          ]
        }
      ]
    },
    {
      "cell_type": "markdown",
      "source": [
        "## 4.2 Function calling with litellm\n",
        "\n",
        "Let's do the same in a native way:"
      ],
      "metadata": {
        "id": "k5-fP28qnLTZ"
      }
    },
    {
      "cell_type": "code",
      "source": [
        "import os, litellm\n",
        "from litellm import completion\n",
        "\n",
        "# IMPORTANT - Set this to TRUE to add the function to the prompt for Non OpenAI LLMs\n",
        "litellm.add_function_to_prompt = True\n",
        "\n",
        "# \"Schema\"\n",
        "# Important: the property 'persons' must defined as array with 'items'. If not defined as array the LLM will only respond with the ONE person.\n",
        "\n",
        "functions = [\n",
        "    {\n",
        "      \"name\": \"information_extraction\",\n",
        "      \"description\": \"Get the description of all persons\",\n",
        "      \"parameters\": {\n",
        "         \"type\": \"object\",\n",
        "      \"properties\": {\n",
        "        \"persons\": {\n",
        "            \"type\": \"array\",\n",
        "            \"description\": \"properties of persons\",\n",
        "            \"items\": {\n",
        "              \"name\": {\"type\": \"string\", \"description\": \"name of person\"},\n",
        "              \"height\": {\"type\": \"integer\", \"description\": \"the height of the person\"},\n",
        "              \"hair_color\": {\"type\": \"string\", \"description\": \"the color of the hair of the person\"}\n",
        "            },\n",
        "        }\n",
        "      },\n",
        "    \"required\": [\"persons\"]\n",
        "    }\n",
        "  }\n",
        "]\n",
        "\n",
        "# Input\n",
        "inp = \"\"\"Alex is 5 feet tall. Claudia is 1 feet taller Alex and jumps higher than him. Claudia is a brunette and Alex is blonde.\"\"\"\n",
        "\n",
        "messages = [\n",
        "    # Intro text for Prompt from Langchain (may be used to optimize results?):\n",
        "    # Extract and save the relevant entities mentioned in the following passage together with their properties.\\n\\n\n",
        "    # Only extract the properties mentioned in the 'information_extraction' function.\n",
        "    # If a property is not present and is not required in the function parameters, do not include it in the output.\\n\\nPassage:\\n\n",
        "    {\"role\": \"user\", \"content\": inp}\n",
        "]\n",
        "\n",
        "#response = completion(model=\"gpt-3.5-turbo-1106\", messages=messages, functions=functions)\n",
        "response = completion(model=\"gpt-3.5-turbo\", messages=messages, functions=functions)\n",
        "\n",
        "print(response)\n",
        "print()\n",
        "function_found = hasattr(response.choices[0]['message'], 'function_call')\n",
        "if function_found == True:\n",
        "  function_call = response.choices[0]['message']['function_call']\n",
        "  function_call_name = function_call.name\n",
        "  function_call_arguments = function_call.arguments\n",
        "  print(function_call_arguments)\n",
        "else:\n",
        "  print('No function found')"
      ],
      "metadata": {
        "colab": {
          "base_uri": "https://localhost:8080/"
        },
        "id": "NUf7DJDeGYnD",
        "outputId": "f859d740-3f40-4ab0-f9b4-35f5770a1f0e"
      },
      "execution_count": 38,
      "outputs": [
        {
          "output_type": "stream",
          "name": "stdout",
          "text": [
            "ModelResponse(id='chatcmpl-8br98v1cVG2jyvjqSsqO9xONUBwJg', choices=[Choices(finish_reason='function_call', index=0, message=Message(content='[\\n  {\\n    \"name\": \"Alex\",\\n    \"height\": \"5 feet\",\\n    \"hair color\": \"blonde\"\\n  },\\n  {\\n    \"name\": \"Claudia\",\\n    \"height\": \"6 feet\",\\n    \"hair color\": \"brunette\"\\n  }\\n]', role='assistant', function_call=FunctionCall(arguments='{\\n  \"persons\": [\\n    {\\n      \"name\": \"Alex\",\\n      \"height\": \"5 feet\",\\n      \"hair color\": \"blonde\"\\n    },\\n    {\\n      \"name\": \"Claudia\",\\n      \"height\": \"6 feet\",\\n      \"hair color\": \"brunette\"\\n    }\\n  ]\\n}', name='information_extraction')))], created=1704033122, model='gpt-3.5-turbo-0613', object='chat.completion', system_fingerprint=None, usage=Usage(completion_tokens=137, prompt_tokens=80, total_tokens=217), _response_ms=5570.419)\n",
            "\n",
            "{\n",
            "  \"persons\": [\n",
            "    {\n",
            "      \"name\": \"Alex\",\n",
            "      \"height\": \"5 feet\",\n",
            "      \"hair color\": \"blonde\"\n",
            "    },\n",
            "    {\n",
            "      \"name\": \"Claudia\",\n",
            "      \"height\": \"6 feet\",\n",
            "      \"hair color\": \"brunette\"\n",
            "    }\n",
            "  ]\n",
            "}\n"
          ]
        }
      ]
    },
    {
      "cell_type": "code",
      "source": [
        "# see https://litellm.vercel.app/docs/completion/function_call\n",
        "\n",
        "# via Huggingface?\n",
        "# https://litellm.vercel.app/docs/providers/huggingface\n",
        "# https://huggingface.co/Trelis/Mixtral-8x7B-Instruct-v0.1-function-calling-v3\n",
        "# https://huggingface.co/Trelis/Mistral-7B-Instruct-v0.1-function-calling-v2\n",
        "\n",
        "# via Anyscale?\n",
        "# https://docs.litellm.ai/docs/providers/anyscale\n",
        "# https://www.anyscale.com/blog/anyscale-endpoints-json-mode-and-function-calling-features"
      ],
      "metadata": {
        "id": "BnHwy6f1nMby"
      },
      "execution_count": null,
      "outputs": []
    },
    {
      "cell_type": "code",
      "source": [
        "import os, litellm\n",
        "from litellm import completion\n",
        "\n",
        "# IMPORTANT - Set this to TRUE to add the function to the prompt for Non OpenAI LLMs\n",
        "litellm.add_function_to_prompt = True\n",
        "\n",
        "# The real function is not needed for the LLM. It may be called after the LLM call (not in this code!)\n",
        "def get_current_weather(location):\n",
        "  if location == \"Boston, MA\":\n",
        "    return \"The weather is 12F\"\n",
        "\n",
        "functions = [\n",
        "    {\n",
        "      \"name\": \"get_current_weather\",\n",
        "      \"description\": \"Get the current weather in a given location\",\n",
        "      \"parameters\": {\n",
        "        \"type\": \"object\",\n",
        "        \"properties\": {\n",
        "          \"location\": {\n",
        "            \"type\": \"string\",\n",
        "            \"description\": \"The city and state, e.g. San Francisco, CA\"\n",
        "          },\n",
        "          \"unit\": {\n",
        "            \"type\": \"string\",\n",
        "            \"enum\": [\"celsius\", \"fahrenheit\"]\n",
        "          }\n",
        "        },\n",
        "        \"required\": [\"location\"]\n",
        "      }\n",
        "    }\n",
        "  ]\n",
        "\n",
        "messages = [\n",
        "    {\"role\": \"user\", \"content\": \"What is the weather like in Boston?\"}\n",
        "]\n",
        "\n",
        "response = completion(model=\"gpt-3.5-turbo-1106\", messages=messages, functions=functions)\n",
        "\n",
        "print(response)\n",
        "print()\n",
        "function_found = hasattr(response.choices[0]['message'], 'function_call')\n",
        "if function_found == True:\n",
        "  function_call = response.choices[0]['message']['function_call']\n",
        "  function_call_name = function_call.name\n",
        "  function_call_arguments = function_call.arguments\n",
        "  print(function_call_name)\n",
        "else:\n",
        "  print('No function found')"
      ],
      "metadata": {
        "colab": {
          "base_uri": "https://localhost:8080/"
        },
        "id": "IYL0aKqpnNY-",
        "outputId": "fcc7b67e-11b1-4cb0-8a8b-8a8935bba52f"
      },
      "execution_count": null,
      "outputs": [
        {
          "output_type": "stream",
          "name": "stdout",
          "text": [
            "ModelResponse(id='chatcmpl-8boD672S6ONQrFt6DEiCw6gCAv3Hs', choices=[Choices(finish_reason='function_call', index=0, message=Message(content=None, role='assistant', function_call=FunctionCall(arguments='{\"location\":\"Boston, MA\"}', name='get_current_weather')))], created=1704021836, model='gpt-3.5-turbo-1106', object='chat.completion', system_fingerprint='fp_772e8125bb', usage=Usage(completion_tokens=17, prompt_tokens=82, total_tokens=99), _response_ms=820.1850000000001)\n",
            "\n",
            "get_current_weather\n"
          ]
        }
      ]
    }
  ]
}